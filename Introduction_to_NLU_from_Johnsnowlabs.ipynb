{
  "nbformat": 4,
  "nbformat_minor": 0,
  "metadata": {
    "colab": {
      "name": "Introduction to NLU from Johnsnowlabs.ipynb",
      "provenance": [],
      "include_colab_link": true
    },
    "kernelspec": {
      "name": "python3",
      "display_name": "Python 3"
    },
    "language_info": {
      "name": "python"
    }
  },
  "cells": [
    {
      "cell_type": "markdown",
      "metadata": {
        "id": "view-in-github",
        "colab_type": "text"
      },
      "source": [
        "<a href=\"https://colab.research.google.com/github/Delila7/Intro-to-Python-Cognitive-Class/blob/main/Introduction_to_NLU_from_Johnsnowlabs.ipynb\" target=\"_parent\"><img src=\"https://colab.research.google.com/assets/colab-badge.svg\" alt=\"Open In Colab\"/></a>"
      ]
    },
    {
      "cell_type": "markdown",
      "metadata": {
        "id": "BKZZjaz70M6t"
      },
      "source": [
        "# NLU: State of the Art Text Mining in Python\n",
        "The Simplicity of Python, the Power of Spark NLP\n",
        "\n",
        "* **Powerful One-Liners**: Over a thousand NLP models in hundreds of languages are at your fingertips with just one line of code\n",
        "*   **Elegant Python**: Directly read and write pandas dataframes for frictionless integration with other libraries and existing ML pipelines\n",
        "\n",
        "\n",
        "\n",
        "\n",
        "\n"
      ]
    },
    {
      "cell_type": "markdown",
      "metadata": {
        "id": "VC_k5ngH0Mxt"
      },
      "source": [
        "# 1. **Install NLU**\n",
        "**Super Quickstart on Google Colab or Kaggle:**\n",
        "\n",
        "If you work on a fresh Notebook on Kaggle or Google colab, you can just copy paste the following commands into your first cell which will automatically setup Java, nlu and import nlu, so you are good to go right away!\n"
      ]
    },
    {
      "cell_type": "code",
      "metadata": {
        "colab": {
          "base_uri": "https://localhost:8080/"
        },
        "id": "JDdyyAaO0HpO",
        "outputId": "0e401056-2afc-4daa-a4cf-b3423ebb3582"
      },
      "source": [
        "import os\n",
        "! apt-get update -qq > /dev/null   \n",
        "# Install java\n",
        "! apt-get install -y openjdk-8-jdk-headless -qq > /dev/null\n",
        "os.environ[\"JAVA_HOME\"] = \"/usr/lib/jvm/java-8-openjdk-amd64\"\n",
        "os.environ[\"PATH\"] = os.environ[\"JAVA_HOME\"] + \"/bin:\" + os.environ[\"PATH\"]\n",
        "! pip install nlu pyspark==2.4.7\n",
        "import nlu\n",
        "\n"
      ],
      "execution_count": null,
      "outputs": [
        {
          "output_type": "stream",
          "text": [
            "^C\n",
            "Requirement already satisfied: nlu in /usr/local/lib/python3.7/dist-packages (1.1.4)\n",
            "Requirement already satisfied: pyspark==2.4.7 in /usr/local/lib/python3.7/dist-packages (2.4.7)\n",
            "Requirement already satisfied: pyarrow>=0.16.0 in /usr/local/lib/python3.7/dist-packages (from nlu) (3.0.0)\n",
            "Requirement already satisfied: numpy in /usr/local/lib/python3.7/dist-packages (from nlu) (1.19.5)\n",
            "Requirement already satisfied: spark-nlp<2.8,>=2.7.1 in /usr/local/lib/python3.7/dist-packages (from nlu) (2.7.5)\n",
            "Requirement already satisfied: dataclasses in /usr/local/lib/python3.7/dist-packages (from nlu) (0.6)\n",
            "Requirement already satisfied: pandas in /usr/local/lib/python3.7/dist-packages (from nlu) (1.1.5)\n",
            "Requirement already satisfied: py4j==0.10.7 in /usr/local/lib/python3.7/dist-packages (from pyspark==2.4.7) (0.10.7)\n",
            "Requirement already satisfied: pytz>=2017.2 in /usr/local/lib/python3.7/dist-packages (from pandas->nlu) (2018.9)\n",
            "Requirement already satisfied: python-dateutil>=2.7.3 in /usr/local/lib/python3.7/dist-packages (from pandas->nlu) (2.8.1)\n",
            "Requirement already satisfied: six>=1.5 in /usr/local/lib/python3.7/dist-packages (from python-dateutil>=2.7.3->pandas->nlu) (1.15.0)\n"
          ],
          "name": "stdout"
        }
      ]
    },
    {
      "cell_type": "code",
      "metadata": {
        "id": "HMQhbgcUKG7B"
      },
      "source": [
        "import nlu"
      ],
      "execution_count": null,
      "outputs": []
    },
    {
      "cell_type": "markdown",
      "metadata": {
        "id": "rN9p_ESi1bTe"
      },
      "source": [
        "You can test it out right away with :"
      ]
    },
    {
      "cell_type": "code",
      "metadata": {
        "colab": {
          "base_uri": "https://localhost:8080/",
          "height": 706
        },
        "id": "lr1maIBg1bvV",
        "outputId": "66d41666-0cdb-43a3-baaa-8952748e2deb"
      },
      "source": [
        "nlu.load('emotion').predict('wow that was easy')"
      ],
      "execution_count": null,
      "outputs": [
        {
          "output_type": "stream",
          "text": [
            "ERROR:py4j.java_gateway:An error occurred while trying to connect to the Java server (127.0.0.1:37053)\n",
            "Traceback (most recent call last):\n",
            "  File \"/usr/local/lib/python3.7/dist-packages/py4j/java_gateway.py\", line 929, in _get_connection\n",
            "    connection = self.deque.pop()\n",
            "IndexError: pop from an empty deque\n",
            "\n",
            "During handling of the above exception, another exception occurred:\n",
            "\n",
            "Traceback (most recent call last):\n",
            "  File \"/usr/local/lib/python3.7/dist-packages/py4j/java_gateway.py\", line 1067, in start\n",
            "    self.socket.connect((self.address, self.port))\n",
            "ConnectionRefusedError: [Errno 111] Connection refused\n"
          ],
          "name": "stderr"
        },
        {
          "output_type": "error",
          "ename": "Py4JNetworkError",
          "evalue": "ignored",
          "traceback": [
            "\u001b[0;31m---------------------------------------------------------------------------\u001b[0m",
            "\u001b[0;31mIndexError\u001b[0m                                Traceback (most recent call last)",
            "\u001b[0;32m/usr/local/lib/python3.7/dist-packages/py4j/java_gateway.py\u001b[0m in \u001b[0;36m_get_connection\u001b[0;34m(self)\u001b[0m\n\u001b[1;32m    928\u001b[0m         \u001b[0;32mtry\u001b[0m\u001b[0;34m:\u001b[0m\u001b[0;34m\u001b[0m\u001b[0;34m\u001b[0m\u001b[0m\n\u001b[0;32m--> 929\u001b[0;31m             \u001b[0mconnection\u001b[0m \u001b[0;34m=\u001b[0m \u001b[0mself\u001b[0m\u001b[0;34m.\u001b[0m\u001b[0mdeque\u001b[0m\u001b[0;34m.\u001b[0m\u001b[0mpop\u001b[0m\u001b[0;34m(\u001b[0m\u001b[0;34m)\u001b[0m\u001b[0;34m\u001b[0m\u001b[0;34m\u001b[0m\u001b[0m\n\u001b[0m\u001b[1;32m    930\u001b[0m         \u001b[0;32mexcept\u001b[0m \u001b[0mIndexError\u001b[0m\u001b[0;34m:\u001b[0m\u001b[0;34m\u001b[0m\u001b[0;34m\u001b[0m\u001b[0m\n",
            "\u001b[0;31mIndexError\u001b[0m: pop from an empty deque",
            "\nDuring handling of the above exception, another exception occurred:\n",
            "\u001b[0;31mConnectionRefusedError\u001b[0m                    Traceback (most recent call last)",
            "\u001b[0;32m/usr/local/lib/python3.7/dist-packages/py4j/java_gateway.py\u001b[0m in \u001b[0;36mstart\u001b[0;34m(self)\u001b[0m\n\u001b[1;32m   1066\u001b[0m         \u001b[0;32mtry\u001b[0m\u001b[0;34m:\u001b[0m\u001b[0;34m\u001b[0m\u001b[0;34m\u001b[0m\u001b[0m\n\u001b[0;32m-> 1067\u001b[0;31m             \u001b[0mself\u001b[0m\u001b[0;34m.\u001b[0m\u001b[0msocket\u001b[0m\u001b[0;34m.\u001b[0m\u001b[0mconnect\u001b[0m\u001b[0;34m(\u001b[0m\u001b[0;34m(\u001b[0m\u001b[0mself\u001b[0m\u001b[0;34m.\u001b[0m\u001b[0maddress\u001b[0m\u001b[0;34m,\u001b[0m \u001b[0mself\u001b[0m\u001b[0;34m.\u001b[0m\u001b[0mport\u001b[0m\u001b[0;34m)\u001b[0m\u001b[0;34m)\u001b[0m\u001b[0;34m\u001b[0m\u001b[0;34m\u001b[0m\u001b[0m\n\u001b[0m\u001b[1;32m   1068\u001b[0m             \u001b[0mself\u001b[0m\u001b[0;34m.\u001b[0m\u001b[0mstream\u001b[0m \u001b[0;34m=\u001b[0m \u001b[0mself\u001b[0m\u001b[0;34m.\u001b[0m\u001b[0msocket\u001b[0m\u001b[0;34m.\u001b[0m\u001b[0mmakefile\u001b[0m\u001b[0;34m(\u001b[0m\u001b[0;34m\"rb\"\u001b[0m\u001b[0;34m)\u001b[0m\u001b[0;34m\u001b[0m\u001b[0;34m\u001b[0m\u001b[0m\n",
            "\u001b[0;31mConnectionRefusedError\u001b[0m: [Errno 111] Connection refused",
            "\nDuring handling of the above exception, another exception occurred:\n",
            "\u001b[0;31mPy4JNetworkError\u001b[0m                          Traceback (most recent call last)",
            "\u001b[0;32m<ipython-input-39-183ba687abd2>\u001b[0m in \u001b[0;36m<module>\u001b[0;34m()\u001b[0m\n\u001b[0;32m----> 1\u001b[0;31m \u001b[0mnlu\u001b[0m\u001b[0;34m.\u001b[0m\u001b[0mload\u001b[0m\u001b[0;34m(\u001b[0m\u001b[0;34m'emotion'\u001b[0m\u001b[0;34m)\u001b[0m\u001b[0;34m.\u001b[0m\u001b[0mpredict\u001b[0m\u001b[0;34m(\u001b[0m\u001b[0;34m'wow that was easy'\u001b[0m\u001b[0;34m)\u001b[0m\u001b[0;34m\u001b[0m\u001b[0;34m\u001b[0m\u001b[0m\n\u001b[0m",
            "\u001b[0;32m/usr/local/lib/python3.7/dist-packages/nlu/__init__.py\u001b[0m in \u001b[0;36mload\u001b[0;34m(request, path, verbose, version_checks)\u001b[0m\n\u001b[1;32m    244\u001b[0m     \u001b[0;31m# if version_checks : check_pyspark_install()\u001b[0m\u001b[0;34m\u001b[0m\u001b[0;34m\u001b[0m\u001b[0;34m\u001b[0m\u001b[0m\n\u001b[1;32m    245\u001b[0m \u001b[0;34m\u001b[0m\u001b[0m\n\u001b[0;32m--> 246\u001b[0;31m     \u001b[0mspark\u001b[0m \u001b[0;34m=\u001b[0m \u001b[0msparknlp\u001b[0m\u001b[0;34m.\u001b[0m\u001b[0mstart\u001b[0m\u001b[0;34m(\u001b[0m\u001b[0mspark23\u001b[0m\u001b[0;34m=\u001b[0m\u001b[0mis_spark_23_installed\u001b[0m\u001b[0;34m(\u001b[0m\u001b[0;34m)\u001b[0m\u001b[0;34m)\u001b[0m\u001b[0;34m\u001b[0m\u001b[0;34m\u001b[0m\u001b[0m\n\u001b[0m\u001b[1;32m    247\u001b[0m     \u001b[0mspark\u001b[0m\u001b[0;34m.\u001b[0m\u001b[0mcatalog\u001b[0m\u001b[0;34m.\u001b[0m\u001b[0mclearCache\u001b[0m\u001b[0;34m(\u001b[0m\u001b[0;34m)\u001b[0m\u001b[0;34m\u001b[0m\u001b[0;34m\u001b[0m\u001b[0m\n\u001b[1;32m    248\u001b[0m     \u001b[0mspark_started\u001b[0m \u001b[0;34m=\u001b[0m \u001b[0;32mTrue\u001b[0m\u001b[0;34m\u001b[0m\u001b[0;34m\u001b[0m\u001b[0m\n",
            "\u001b[0;32m/usr/local/lib/python3.7/dist-packages/sparknlp/__init__.py\u001b[0m in \u001b[0;36mstart\u001b[0;34m(gpu, spark23)\u001b[0m\n\u001b[1;32m     63\u001b[0m         \u001b[0mbuilder\u001b[0m\u001b[0;34m.\u001b[0m\u001b[0mconfig\u001b[0m\u001b[0;34m(\u001b[0m\u001b[0;34m\"spark.jars.packages\"\u001b[0m\u001b[0;34m,\u001b[0m \u001b[0mmaven_spark24\u001b[0m\u001b[0;34m)\u001b[0m\u001b[0;34m\u001b[0m\u001b[0;34m\u001b[0m\u001b[0m\n\u001b[1;32m     64\u001b[0m \u001b[0;34m\u001b[0m\u001b[0m\n\u001b[0;32m---> 65\u001b[0;31m     \u001b[0;32mreturn\u001b[0m \u001b[0mbuilder\u001b[0m\u001b[0;34m.\u001b[0m\u001b[0mgetOrCreate\u001b[0m\u001b[0;34m(\u001b[0m\u001b[0;34m)\u001b[0m\u001b[0;34m\u001b[0m\u001b[0;34m\u001b[0m\u001b[0m\n\u001b[0m\u001b[1;32m     66\u001b[0m \u001b[0;34m\u001b[0m\u001b[0m\n\u001b[1;32m     67\u001b[0m \u001b[0;34m\u001b[0m\u001b[0m\n",
            "\u001b[0;32m/usr/local/lib/python3.7/dist-packages/pyspark/sql/session.py\u001b[0m in \u001b[0;36mgetOrCreate\u001b[0;34m(self)\u001b[0m\n\u001b[1;32m    181\u001b[0m                     \u001b[0msession\u001b[0m \u001b[0;34m=\u001b[0m \u001b[0mSparkSession\u001b[0m\u001b[0;34m(\u001b[0m\u001b[0msc\u001b[0m\u001b[0;34m)\u001b[0m\u001b[0;34m\u001b[0m\u001b[0;34m\u001b[0m\u001b[0m\n\u001b[1;32m    182\u001b[0m                 \u001b[0;32mfor\u001b[0m \u001b[0mkey\u001b[0m\u001b[0;34m,\u001b[0m \u001b[0mvalue\u001b[0m \u001b[0;32min\u001b[0m \u001b[0mself\u001b[0m\u001b[0;34m.\u001b[0m\u001b[0m_options\u001b[0m\u001b[0;34m.\u001b[0m\u001b[0mitems\u001b[0m\u001b[0;34m(\u001b[0m\u001b[0;34m)\u001b[0m\u001b[0;34m:\u001b[0m\u001b[0;34m\u001b[0m\u001b[0;34m\u001b[0m\u001b[0m\n\u001b[0;32m--> 183\u001b[0;31m                     \u001b[0msession\u001b[0m\u001b[0;34m.\u001b[0m\u001b[0m_jsparkSession\u001b[0m\u001b[0;34m.\u001b[0m\u001b[0msessionState\u001b[0m\u001b[0;34m(\u001b[0m\u001b[0;34m)\u001b[0m\u001b[0;34m.\u001b[0m\u001b[0mconf\u001b[0m\u001b[0;34m(\u001b[0m\u001b[0;34m)\u001b[0m\u001b[0;34m.\u001b[0m\u001b[0msetConfString\u001b[0m\u001b[0;34m(\u001b[0m\u001b[0mkey\u001b[0m\u001b[0;34m,\u001b[0m \u001b[0mvalue\u001b[0m\u001b[0;34m)\u001b[0m\u001b[0;34m\u001b[0m\u001b[0;34m\u001b[0m\u001b[0m\n\u001b[0m\u001b[1;32m    184\u001b[0m                 \u001b[0;32mfor\u001b[0m \u001b[0mkey\u001b[0m\u001b[0;34m,\u001b[0m \u001b[0mvalue\u001b[0m \u001b[0;32min\u001b[0m \u001b[0mself\u001b[0m\u001b[0;34m.\u001b[0m\u001b[0m_options\u001b[0m\u001b[0;34m.\u001b[0m\u001b[0mitems\u001b[0m\u001b[0;34m(\u001b[0m\u001b[0;34m)\u001b[0m\u001b[0;34m:\u001b[0m\u001b[0;34m\u001b[0m\u001b[0;34m\u001b[0m\u001b[0m\n\u001b[1;32m    185\u001b[0m                     \u001b[0msession\u001b[0m\u001b[0;34m.\u001b[0m\u001b[0msparkContext\u001b[0m\u001b[0;34m.\u001b[0m\u001b[0m_conf\u001b[0m\u001b[0;34m.\u001b[0m\u001b[0mset\u001b[0m\u001b[0;34m(\u001b[0m\u001b[0mkey\u001b[0m\u001b[0;34m,\u001b[0m \u001b[0mvalue\u001b[0m\u001b[0;34m)\u001b[0m\u001b[0;34m\u001b[0m\u001b[0;34m\u001b[0m\u001b[0m\n",
            "\u001b[0;32m/usr/local/lib/python3.7/dist-packages/py4j/java_gateway.py\u001b[0m in \u001b[0;36m__call__\u001b[0;34m(self, *args)\u001b[0m\n\u001b[1;32m   1253\u001b[0m             \u001b[0mproto\u001b[0m\u001b[0;34m.\u001b[0m\u001b[0mEND_COMMAND_PART\u001b[0m\u001b[0;34m\u001b[0m\u001b[0;34m\u001b[0m\u001b[0m\n\u001b[1;32m   1254\u001b[0m \u001b[0;34m\u001b[0m\u001b[0m\n\u001b[0;32m-> 1255\u001b[0;31m         \u001b[0manswer\u001b[0m \u001b[0;34m=\u001b[0m \u001b[0mself\u001b[0m\u001b[0;34m.\u001b[0m\u001b[0mgateway_client\u001b[0m\u001b[0;34m.\u001b[0m\u001b[0msend_command\u001b[0m\u001b[0;34m(\u001b[0m\u001b[0mcommand\u001b[0m\u001b[0;34m)\u001b[0m\u001b[0;34m\u001b[0m\u001b[0;34m\u001b[0m\u001b[0m\n\u001b[0m\u001b[1;32m   1256\u001b[0m         return_value = get_return_value(\n\u001b[1;32m   1257\u001b[0m             answer, self.gateway_client, self.target_id, self.name)\n",
            "\u001b[0;32m/usr/local/lib/python3.7/dist-packages/py4j/java_gateway.py\u001b[0m in \u001b[0;36msend_command\u001b[0;34m(self, command, retry, binary)\u001b[0m\n\u001b[1;32m    981\u001b[0m          \u001b[0;32mif\u001b[0m\u001b[0;31m \u001b[0m\u001b[0;31m`\u001b[0m\u001b[0mbinary\u001b[0m\u001b[0;31m`\u001b[0m \u001b[0;32mis\u001b[0m\u001b[0;31m \u001b[0m\u001b[0;31m`\u001b[0m\u001b[0;32mTrue\u001b[0m\u001b[0;31m`\u001b[0m\u001b[0;34m.\u001b[0m\u001b[0;34m\u001b[0m\u001b[0;34m\u001b[0m\u001b[0m\n\u001b[1;32m    982\u001b[0m         \"\"\"\n\u001b[0;32m--> 983\u001b[0;31m         \u001b[0mconnection\u001b[0m \u001b[0;34m=\u001b[0m \u001b[0mself\u001b[0m\u001b[0;34m.\u001b[0m\u001b[0m_get_connection\u001b[0m\u001b[0;34m(\u001b[0m\u001b[0;34m)\u001b[0m\u001b[0;34m\u001b[0m\u001b[0;34m\u001b[0m\u001b[0m\n\u001b[0m\u001b[1;32m    984\u001b[0m         \u001b[0;32mtry\u001b[0m\u001b[0;34m:\u001b[0m\u001b[0;34m\u001b[0m\u001b[0;34m\u001b[0m\u001b[0m\n\u001b[1;32m    985\u001b[0m             \u001b[0mresponse\u001b[0m \u001b[0;34m=\u001b[0m \u001b[0mconnection\u001b[0m\u001b[0;34m.\u001b[0m\u001b[0msend_command\u001b[0m\u001b[0;34m(\u001b[0m\u001b[0mcommand\u001b[0m\u001b[0;34m)\u001b[0m\u001b[0;34m\u001b[0m\u001b[0;34m\u001b[0m\u001b[0m\n",
            "\u001b[0;32m/usr/local/lib/python3.7/dist-packages/py4j/java_gateway.py\u001b[0m in \u001b[0;36m_get_connection\u001b[0;34m(self)\u001b[0m\n\u001b[1;32m    929\u001b[0m             \u001b[0mconnection\u001b[0m \u001b[0;34m=\u001b[0m \u001b[0mself\u001b[0m\u001b[0;34m.\u001b[0m\u001b[0mdeque\u001b[0m\u001b[0;34m.\u001b[0m\u001b[0mpop\u001b[0m\u001b[0;34m(\u001b[0m\u001b[0;34m)\u001b[0m\u001b[0;34m\u001b[0m\u001b[0;34m\u001b[0m\u001b[0m\n\u001b[1;32m    930\u001b[0m         \u001b[0;32mexcept\u001b[0m \u001b[0mIndexError\u001b[0m\u001b[0;34m:\u001b[0m\u001b[0;34m\u001b[0m\u001b[0;34m\u001b[0m\u001b[0m\n\u001b[0;32m--> 931\u001b[0;31m             \u001b[0mconnection\u001b[0m \u001b[0;34m=\u001b[0m \u001b[0mself\u001b[0m\u001b[0;34m.\u001b[0m\u001b[0m_create_connection\u001b[0m\u001b[0;34m(\u001b[0m\u001b[0;34m)\u001b[0m\u001b[0;34m\u001b[0m\u001b[0;34m\u001b[0m\u001b[0m\n\u001b[0m\u001b[1;32m    932\u001b[0m         \u001b[0;32mreturn\u001b[0m \u001b[0mconnection\u001b[0m\u001b[0;34m\u001b[0m\u001b[0;34m\u001b[0m\u001b[0m\n\u001b[1;32m    933\u001b[0m \u001b[0;34m\u001b[0m\u001b[0m\n",
            "\u001b[0;32m/usr/local/lib/python3.7/dist-packages/py4j/java_gateway.py\u001b[0m in \u001b[0;36m_create_connection\u001b[0;34m(self)\u001b[0m\n\u001b[1;32m    935\u001b[0m         connection = GatewayConnection(\n\u001b[1;32m    936\u001b[0m             self.gateway_parameters, self.gateway_property)\n\u001b[0;32m--> 937\u001b[0;31m         \u001b[0mconnection\u001b[0m\u001b[0;34m.\u001b[0m\u001b[0mstart\u001b[0m\u001b[0;34m(\u001b[0m\u001b[0;34m)\u001b[0m\u001b[0;34m\u001b[0m\u001b[0;34m\u001b[0m\u001b[0m\n\u001b[0m\u001b[1;32m    938\u001b[0m         \u001b[0;32mreturn\u001b[0m \u001b[0mconnection\u001b[0m\u001b[0;34m\u001b[0m\u001b[0;34m\u001b[0m\u001b[0m\n\u001b[1;32m    939\u001b[0m \u001b[0;34m\u001b[0m\u001b[0m\n",
            "\u001b[0;32m/usr/local/lib/python3.7/dist-packages/py4j/java_gateway.py\u001b[0m in \u001b[0;36mstart\u001b[0;34m(self)\u001b[0m\n\u001b[1;32m   1077\u001b[0m                 \u001b[0;34m\"server ({0}:{1})\"\u001b[0m\u001b[0;34m.\u001b[0m\u001b[0mformat\u001b[0m\u001b[0;34m(\u001b[0m\u001b[0mself\u001b[0m\u001b[0;34m.\u001b[0m\u001b[0maddress\u001b[0m\u001b[0;34m,\u001b[0m \u001b[0mself\u001b[0m\u001b[0;34m.\u001b[0m\u001b[0mport\u001b[0m\u001b[0;34m)\u001b[0m\u001b[0;34m\u001b[0m\u001b[0;34m\u001b[0m\u001b[0m\n\u001b[1;32m   1078\u001b[0m             \u001b[0mlogger\u001b[0m\u001b[0;34m.\u001b[0m\u001b[0mexception\u001b[0m\u001b[0;34m(\u001b[0m\u001b[0mmsg\u001b[0m\u001b[0;34m)\u001b[0m\u001b[0;34m\u001b[0m\u001b[0;34m\u001b[0m\u001b[0m\n\u001b[0;32m-> 1079\u001b[0;31m             \u001b[0;32mraise\u001b[0m \u001b[0mPy4JNetworkError\u001b[0m\u001b[0;34m(\u001b[0m\u001b[0mmsg\u001b[0m\u001b[0;34m,\u001b[0m \u001b[0me\u001b[0m\u001b[0;34m)\u001b[0m\u001b[0;34m\u001b[0m\u001b[0;34m\u001b[0m\u001b[0m\n\u001b[0m\u001b[1;32m   1080\u001b[0m \u001b[0;34m\u001b[0m\u001b[0m\n\u001b[1;32m   1081\u001b[0m     \u001b[0;32mdef\u001b[0m \u001b[0m_authenticate_connection\u001b[0m\u001b[0;34m(\u001b[0m\u001b[0mself\u001b[0m\u001b[0;34m)\u001b[0m\u001b[0;34m:\u001b[0m\u001b[0;34m\u001b[0m\u001b[0;34m\u001b[0m\u001b[0m\n",
            "\u001b[0;31mPy4JNetworkError\u001b[0m: An error occurred while trying to connect to the Java server (127.0.0.1:37053)"
          ]
        }
      ]
    },
    {
      "cell_type": "markdown",
      "metadata": {
        "id": "T0rUhf6e1mV3"
      },
      "source": [
        "# **2. NLU Concepts**\n",
        "The NLU library provides 2 simple methods with which most NLU tasks can be solved while achieving state of the art results.\n",
        "### **The load and predict method.**\n",
        "\n",
        "When building a NLU programm you will usually go through the following steps :\n",
        "\n",
        "1.   Pick a model/pipeline/component you want to create from the NLU namespace\n",
        "2.   Call the nlu.load(component) method which returns a NLU model pipeline object\n",
        "1.   Call model.predict() on some String input\n",
        "\n",
        "These 3 steps have been boiled down to just 1 line"
      ]
    },
    {
      "cell_type": "markdown",
      "metadata": {
        "id": "TF468LIE1mY_"
      },
      "source": [
        "# 3. NLU components\n",
        "NLU defines a universe of NLU components which can be viewed as **stackable** and interchangeable parts, inspired by methodology of category theory.\n",
        "\n",
        "Inside of this NLU universe, arbitrary machine learning pipelines can be constructed from its elements.\n",
        "\n",
        "### NLU currently defines 18 components types in its universe.\n",
        "Each component type embelishes one of many component kinds.\n",
        "\n",
        "Each component kind embelished one of many NLU algorithms.\n",
        "\n",
        "NLU algorithms are represented by pretrained models or pipelines.\n",
        "\n",
        "A **pretrained** model could be a Deep Neural Network or a simple word matcher.\n",
        "\n",
        "A **pipeline** consists of a stack of pretrained models.\n",
        "\n",
        "## NLU component types\n",
        "Any of the actions for the component types can be passed as a string to nlu.load() and will return you the default model for that component type for the English language. You can further specify your model selection by placing a ‘.’ behind your component selection.\n",
        "\n",
        "After the ‘.’ you can specify the model you want via specifying a dataset or model version.\n",
        "\n",
        "See the NLU components namespace and The load function"
      ]
    },
    {
      "cell_type": "markdown",
      "metadata": {
        "id": "QEQNncIh5fxH"
      },
      "source": [
        "![image.png](data:image/png;base64,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)"
      ]
    },
    {
      "cell_type": "markdown",
      "metadata": {
        "id": "jdDrN2OH7G3m"
      },
      "source": [
        "# 4. **NLU Simple Preprocessing Examples**\n",
        "## 4.1 Tokenizers"
      ]
    },
    {
      "cell_type": "code",
      "metadata": {
        "id": "hqyk7oYz8LvY"
      },
      "source": [
        "tokens  = nlu.load('en.tokenize').predict('Each word and symbol in a sentence will generate token.')"
      ],
      "execution_count": null,
      "outputs": []
    },
    {
      "cell_type": "code",
      "metadata": {
        "colab": {
          "base_uri": "https://localhost:8080/",
          "height": 106
        },
        "id": "AO-BmFR_8RLm",
        "outputId": "73d96269-1193-4b3b-d115-bdee5a3833b8"
      },
      "source": [
        "tokens"
      ],
      "execution_count": null,
      "outputs": [
        {
          "output_type": "execute_result",
          "data": {
            "text/html": [
              "<div>\n",
              "<style scoped>\n",
              "    .dataframe tbody tr th:only-of-type {\n",
              "        vertical-align: middle;\n",
              "    }\n",
              "\n",
              "    .dataframe tbody tr th {\n",
              "        vertical-align: top;\n",
              "    }\n",
              "\n",
              "    .dataframe thead th {\n",
              "        text-align: right;\n",
              "    }\n",
              "</style>\n",
              "<table border=\"1\" class=\"dataframe\">\n",
              "  <thead>\n",
              "    <tr style=\"text-align: right;\">\n",
              "      <th></th>\n",
              "      <th>document</th>\n",
              "    </tr>\n",
              "    <tr>\n",
              "      <th>origin_index</th>\n",
              "      <th></th>\n",
              "    </tr>\n",
              "  </thead>\n",
              "  <tbody>\n",
              "    <tr>\n",
              "      <th>0</th>\n",
              "      <td>Each word and symbol in a sentence will genera...</td>\n",
              "    </tr>\n",
              "  </tbody>\n",
              "</table>\n",
              "</div>"
            ],
            "text/plain": [
              "                                                       document\n",
              "origin_index                                                   \n",
              "0             Each word and symbol in a sentence will genera..."
            ]
          },
          "metadata": {
            "tags": []
          },
          "execution_count": 5
        }
      ]
    },
    {
      "cell_type": "code",
      "metadata": {
        "colab": {
          "base_uri": "https://localhost:8080/",
          "height": 343
        },
        "id": "1LIWxt-c7HNW",
        "outputId": "b5e51b38-f980-4302-8435-c7586d556df4"
      },
      "source": [
        "nlu.load('tokenize').predict('Our first example is to tokenize words and tokens',output_level='token')"
      ],
      "execution_count": null,
      "outputs": [
        {
          "output_type": "execute_result",
          "data": {
            "text/html": [
              "<div>\n",
              "<style scoped>\n",
              "    .dataframe tbody tr th:only-of-type {\n",
              "        vertical-align: middle;\n",
              "    }\n",
              "\n",
              "    .dataframe tbody tr th {\n",
              "        vertical-align: top;\n",
              "    }\n",
              "\n",
              "    .dataframe thead th {\n",
              "        text-align: right;\n",
              "    }\n",
              "</style>\n",
              "<table border=\"1\" class=\"dataframe\">\n",
              "  <thead>\n",
              "    <tr style=\"text-align: right;\">\n",
              "      <th></th>\n",
              "      <th>token</th>\n",
              "    </tr>\n",
              "    <tr>\n",
              "      <th>origin_index</th>\n",
              "      <th></th>\n",
              "    </tr>\n",
              "  </thead>\n",
              "  <tbody>\n",
              "    <tr>\n",
              "      <th>0</th>\n",
              "      <td>Our</td>\n",
              "    </tr>\n",
              "    <tr>\n",
              "      <th>0</th>\n",
              "      <td>first</td>\n",
              "    </tr>\n",
              "    <tr>\n",
              "      <th>0</th>\n",
              "      <td>example</td>\n",
              "    </tr>\n",
              "    <tr>\n",
              "      <th>0</th>\n",
              "      <td>is</td>\n",
              "    </tr>\n",
              "    <tr>\n",
              "      <th>0</th>\n",
              "      <td>to</td>\n",
              "    </tr>\n",
              "    <tr>\n",
              "      <th>0</th>\n",
              "      <td>tokenize</td>\n",
              "    </tr>\n",
              "    <tr>\n",
              "      <th>0</th>\n",
              "      <td>words</td>\n",
              "    </tr>\n",
              "    <tr>\n",
              "      <th>0</th>\n",
              "      <td>and</td>\n",
              "    </tr>\n",
              "    <tr>\n",
              "      <th>0</th>\n",
              "      <td>tokens</td>\n",
              "    </tr>\n",
              "  </tbody>\n",
              "</table>\n",
              "</div>"
            ],
            "text/plain": [
              "                 token\n",
              "origin_index          \n",
              "0                  Our\n",
              "0                first\n",
              "0              example\n",
              "0                   is\n",
              "0                   to\n",
              "0             tokenize\n",
              "0                words\n",
              "0                  and\n",
              "0               tokens"
            ]
          },
          "metadata": {
            "tags": []
          },
          "execution_count": 6
        }
      ]
    },
    {
      "cell_type": "markdown",
      "metadata": {
        "id": "U4nn-FWZ8-be"
      },
      "source": [
        "## 4.2 Stemming"
      ]
    },
    {
      "cell_type": "code",
      "metadata": {
        "colab": {
          "base_uri": "https://localhost:8080/",
          "height": 343
        },
        "id": "pVDrPB9M_JdQ",
        "outputId": "375a911c-ffef-4ed9-fff3-21dba8bfad52"
      },
      "source": [
        "nlu.load('stemm').predict('Our first example is to tokenize words and tokens')"
      ],
      "execution_count": null,
      "outputs": [
        {
          "output_type": "execute_result",
          "data": {
            "text/html": [
              "<div>\n",
              "<style scoped>\n",
              "    .dataframe tbody tr th:only-of-type {\n",
              "        vertical-align: middle;\n",
              "    }\n",
              "\n",
              "    .dataframe tbody tr th {\n",
              "        vertical-align: top;\n",
              "    }\n",
              "\n",
              "    .dataframe thead th {\n",
              "        text-align: right;\n",
              "    }\n",
              "</style>\n",
              "<table border=\"1\" class=\"dataframe\">\n",
              "  <thead>\n",
              "    <tr style=\"text-align: right;\">\n",
              "      <th></th>\n",
              "      <th>stem</th>\n",
              "      <th>token</th>\n",
              "    </tr>\n",
              "    <tr>\n",
              "      <th>origin_index</th>\n",
              "      <th></th>\n",
              "      <th></th>\n",
              "    </tr>\n",
              "  </thead>\n",
              "  <tbody>\n",
              "    <tr>\n",
              "      <th>0</th>\n",
              "      <td>our</td>\n",
              "      <td>Our</td>\n",
              "    </tr>\n",
              "    <tr>\n",
              "      <th>0</th>\n",
              "      <td>first</td>\n",
              "      <td>first</td>\n",
              "    </tr>\n",
              "    <tr>\n",
              "      <th>0</th>\n",
              "      <td>exampl</td>\n",
              "      <td>example</td>\n",
              "    </tr>\n",
              "    <tr>\n",
              "      <th>0</th>\n",
              "      <td>i</td>\n",
              "      <td>is</td>\n",
              "    </tr>\n",
              "    <tr>\n",
              "      <th>0</th>\n",
              "      <td>to</td>\n",
              "      <td>to</td>\n",
              "    </tr>\n",
              "    <tr>\n",
              "      <th>0</th>\n",
              "      <td>token</td>\n",
              "      <td>tokenize</td>\n",
              "    </tr>\n",
              "    <tr>\n",
              "      <th>0</th>\n",
              "      <td>word</td>\n",
              "      <td>words</td>\n",
              "    </tr>\n",
              "    <tr>\n",
              "      <th>0</th>\n",
              "      <td>and</td>\n",
              "      <td>and</td>\n",
              "    </tr>\n",
              "    <tr>\n",
              "      <th>0</th>\n",
              "      <td>token</td>\n",
              "      <td>tokens</td>\n",
              "    </tr>\n",
              "  </tbody>\n",
              "</table>\n",
              "</div>"
            ],
            "text/plain": [
              "                stem     token\n",
              "origin_index                  \n",
              "0                our       Our\n",
              "0              first     first\n",
              "0             exampl   example\n",
              "0                  i        is\n",
              "0                 to        to\n",
              "0              token  tokenize\n",
              "0               word     words\n",
              "0                and       and\n",
              "0              token    tokens"
            ]
          },
          "metadata": {
            "tags": []
          },
          "execution_count": 7
        }
      ]
    },
    {
      "cell_type": "code",
      "metadata": {
        "colab": {
          "base_uri": "https://localhost:8080/",
          "height": 106
        },
        "id": "4ZZHm-Mt8-hd",
        "outputId": "8f984993-e0be-428a-c767-f729e6369f84"
      },
      "source": [
        "nlu.load('stemm').predict('Our first example is to tokenize words and tokens',output_level='document')"
      ],
      "execution_count": null,
      "outputs": [
        {
          "output_type": "execute_result",
          "data": {
            "text/html": [
              "<div>\n",
              "<style scoped>\n",
              "    .dataframe tbody tr th:only-of-type {\n",
              "        vertical-align: middle;\n",
              "    }\n",
              "\n",
              "    .dataframe tbody tr th {\n",
              "        vertical-align: top;\n",
              "    }\n",
              "\n",
              "    .dataframe thead th {\n",
              "        text-align: right;\n",
              "    }\n",
              "</style>\n",
              "<table border=\"1\" class=\"dataframe\">\n",
              "  <thead>\n",
              "    <tr style=\"text-align: right;\">\n",
              "      <th></th>\n",
              "      <th>stem</th>\n",
              "      <th>document</th>\n",
              "    </tr>\n",
              "    <tr>\n",
              "      <th>origin_index</th>\n",
              "      <th></th>\n",
              "      <th></th>\n",
              "    </tr>\n",
              "  </thead>\n",
              "  <tbody>\n",
              "    <tr>\n",
              "      <th>0</th>\n",
              "      <td>[our, first, exampl, i, to, token, word, and, ...</td>\n",
              "      <td>Our first example is to tokenize words and tokens</td>\n",
              "    </tr>\n",
              "  </tbody>\n",
              "</table>\n",
              "</div>"
            ],
            "text/plain": [
              "                                                           stem                                           document\n",
              "origin_index                                                                                                      \n",
              "0             [our, first, exampl, i, to, token, word, and, ...  Our first example is to tokenize words and tokens"
            ]
          },
          "metadata": {
            "tags": []
          },
          "execution_count": 8
        }
      ]
    },
    {
      "cell_type": "markdown",
      "metadata": {
        "id": "XQPN3PcI9Os_"
      },
      "source": [
        "## 4.3 Lemmatize"
      ]
    },
    {
      "cell_type": "code",
      "metadata": {
        "colab": {
          "base_uri": "https://localhost:8080/",
          "height": 157
        },
        "id": "4c7m2NpC9O03",
        "outputId": "3977de72-9e55-434f-9e4f-3466f323a619"
      },
      "source": [
        "nlu.load('lemma').predict('Our first example is to tokenize words and tokens')"
      ],
      "execution_count": null,
      "outputs": [
        {
          "output_type": "stream",
          "text": [
            "lemma_antbnc download started this may take some time.\n",
            "Approximate size to download 907.6 KB\n",
            "[OK!]\n"
          ],
          "name": "stdout"
        },
        {
          "output_type": "execute_result",
          "data": {
            "text/html": [
              "<div>\n",
              "<style scoped>\n",
              "    .dataframe tbody tr th:only-of-type {\n",
              "        vertical-align: middle;\n",
              "    }\n",
              "\n",
              "    .dataframe tbody tr th {\n",
              "        vertical-align: top;\n",
              "    }\n",
              "\n",
              "    .dataframe thead th {\n",
              "        text-align: right;\n",
              "    }\n",
              "</style>\n",
              "<table border=\"1\" class=\"dataframe\">\n",
              "  <thead>\n",
              "    <tr style=\"text-align: right;\">\n",
              "      <th></th>\n",
              "      <th>lemma</th>\n",
              "      <th>document</th>\n",
              "    </tr>\n",
              "    <tr>\n",
              "      <th>origin_index</th>\n",
              "      <th></th>\n",
              "      <th></th>\n",
              "    </tr>\n",
              "  </thead>\n",
              "  <tbody>\n",
              "    <tr>\n",
              "      <th>0</th>\n",
              "      <td>[Our, first, example, be, to, tokenize, word, ...</td>\n",
              "      <td>Our first example is to tokenize words and tokens</td>\n",
              "    </tr>\n",
              "  </tbody>\n",
              "</table>\n",
              "</div>"
            ],
            "text/plain": [
              "                                                          lemma                                           document\n",
              "origin_index                                                                                                      \n",
              "0             [Our, first, example, be, to, tokenize, word, ...  Our first example is to tokenize words and tokens"
            ]
          },
          "metadata": {
            "tags": []
          },
          "execution_count": 9
        }
      ]
    },
    {
      "cell_type": "code",
      "metadata": {
        "id": "g1iuR3dL9cfv"
      },
      "source": [
        ""
      ],
      "execution_count": null,
      "outputs": []
    },
    {
      "cell_type": "markdown",
      "metadata": {
        "id": "YTEne5f36OEH"
      },
      "source": [
        "## 4.4 Part of speech tagging\n",
        "The result is automatically saved as a pandas dataframe."
      ]
    },
    {
      "cell_type": "code",
      "metadata": {
        "colab": {
          "base_uri": "https://localhost:8080/"
        },
        "id": "3oB67sdZ1mlG",
        "outputId": "c3f4a6e9-584d-4f3a-d375-1d4531ff093b"
      },
      "source": [
        "pos_example = nlu.load('pos').predict('Part of speech assigns each token in a sentence a grammatical label')"
      ],
      "execution_count": null,
      "outputs": [
        {
          "output_type": "stream",
          "text": [
            "pos_anc download started this may take some time.\n",
            "Approximate size to download 4.3 MB\n",
            "[OK!]\n"
          ],
          "name": "stdout"
        }
      ]
    },
    {
      "cell_type": "code",
      "metadata": {
        "colab": {
          "base_uri": "https://localhost:8080/"
        },
        "id": "q0S7bSpc1mn2",
        "outputId": "82f0dd11-83dc-4de5-83e2-8229cfaac6da"
      },
      "source": [
        "type(pos_example)"
      ],
      "execution_count": null,
      "outputs": [
        {
          "output_type": "execute_result",
          "data": {
            "text/plain": [
              "pandas.core.frame.DataFrame"
            ]
          },
          "metadata": {
            "tags": []
          },
          "execution_count": 11
        }
      ]
    },
    {
      "cell_type": "code",
      "metadata": {
        "colab": {
          "base_uri": "https://localhost:8080/",
          "height": 432
        },
        "id": "m8ZtQ0Oh1mrP",
        "outputId": "e54f02c0-3d89-41c6-a5a6-925c8393791a"
      },
      "source": [
        "pos_example"
      ],
      "execution_count": null,
      "outputs": [
        {
          "output_type": "execute_result",
          "data": {
            "text/html": [
              "<div>\n",
              "<style scoped>\n",
              "    .dataframe tbody tr th:only-of-type {\n",
              "        vertical-align: middle;\n",
              "    }\n",
              "\n",
              "    .dataframe tbody tr th {\n",
              "        vertical-align: top;\n",
              "    }\n",
              "\n",
              "    .dataframe thead th {\n",
              "        text-align: right;\n",
              "    }\n",
              "</style>\n",
              "<table border=\"1\" class=\"dataframe\">\n",
              "  <thead>\n",
              "    <tr style=\"text-align: right;\">\n",
              "      <th></th>\n",
              "      <th>pos</th>\n",
              "      <th>token</th>\n",
              "    </tr>\n",
              "    <tr>\n",
              "      <th>origin_index</th>\n",
              "      <th></th>\n",
              "      <th></th>\n",
              "    </tr>\n",
              "  </thead>\n",
              "  <tbody>\n",
              "    <tr>\n",
              "      <th>0</th>\n",
              "      <td>NN</td>\n",
              "      <td>Part</td>\n",
              "    </tr>\n",
              "    <tr>\n",
              "      <th>0</th>\n",
              "      <td>IN</td>\n",
              "      <td>of</td>\n",
              "    </tr>\n",
              "    <tr>\n",
              "      <th>0</th>\n",
              "      <td>NN</td>\n",
              "      <td>speech</td>\n",
              "    </tr>\n",
              "    <tr>\n",
              "      <th>0</th>\n",
              "      <td>NNS</td>\n",
              "      <td>assigns</td>\n",
              "    </tr>\n",
              "    <tr>\n",
              "      <th>0</th>\n",
              "      <td>DT</td>\n",
              "      <td>each</td>\n",
              "    </tr>\n",
              "    <tr>\n",
              "      <th>0</th>\n",
              "      <td>NN</td>\n",
              "      <td>token</td>\n",
              "    </tr>\n",
              "    <tr>\n",
              "      <th>0</th>\n",
              "      <td>IN</td>\n",
              "      <td>in</td>\n",
              "    </tr>\n",
              "    <tr>\n",
              "      <th>0</th>\n",
              "      <td>DT</td>\n",
              "      <td>a</td>\n",
              "    </tr>\n",
              "    <tr>\n",
              "      <th>0</th>\n",
              "      <td>NN</td>\n",
              "      <td>sentence</td>\n",
              "    </tr>\n",
              "    <tr>\n",
              "      <th>0</th>\n",
              "      <td>DT</td>\n",
              "      <td>a</td>\n",
              "    </tr>\n",
              "    <tr>\n",
              "      <th>0</th>\n",
              "      <td>JJ</td>\n",
              "      <td>grammatical</td>\n",
              "    </tr>\n",
              "    <tr>\n",
              "      <th>0</th>\n",
              "      <td>NN</td>\n",
              "      <td>label</td>\n",
              "    </tr>\n",
              "  </tbody>\n",
              "</table>\n",
              "</div>"
            ],
            "text/plain": [
              "              pos        token\n",
              "origin_index                  \n",
              "0              NN         Part\n",
              "0              IN           of\n",
              "0              NN       speech\n",
              "0             NNS      assigns\n",
              "0              DT         each\n",
              "0              NN        token\n",
              "0              IN           in\n",
              "0              DT            a\n",
              "0              NN     sentence\n",
              "0              DT            a\n",
              "0              JJ  grammatical\n",
              "0              NN        label"
            ]
          },
          "metadata": {
            "tags": []
          },
          "execution_count": 12
        }
      ]
    },
    {
      "cell_type": "markdown",
      "metadata": {
        "id": "5oF9gqVv6g7O"
      },
      "source": [
        "## 4.5 Stop words removal"
      ]
    },
    {
      "cell_type": "code",
      "metadata": {
        "colab": {
          "base_uri": "https://localhost:8080/"
        },
        "id": "E2_CCoeP6gte",
        "outputId": "3b301ade-f18d-43f8-aaab-b8d8df608abe"
      },
      "source": [
        "pipe = nlu.load('stopwords')\n",
        "result = pipe.predict('''The Baltimore plant that recently had to scrap up to 15 million ruined doses\n",
        " had flouted rules and downplayed errors, according to internal audits, ex-employees and clients. \n",
        " Other doses had to be scrapped last year.''',output_level='document')"
      ],
      "execution_count": null,
      "outputs": [
        {
          "output_type": "stream",
          "text": [
            "stopwords_en download started this may take some time.\n",
            "Approximate size to download 2.9 KB\n",
            "[OK!]\n"
          ],
          "name": "stdout"
        }
      ]
    },
    {
      "cell_type": "code",
      "metadata": {
        "colab": {
          "base_uri": "https://localhost:8080/",
          "height": 106
        },
        "id": "sx1YdsSpB5In",
        "outputId": "fe0fa43b-1261-4161-c4f8-3cb7ba30244a"
      },
      "source": [
        "result"
      ],
      "execution_count": null,
      "outputs": [
        {
          "output_type": "execute_result",
          "data": {
            "text/html": [
              "<div>\n",
              "<style scoped>\n",
              "    .dataframe tbody tr th:only-of-type {\n",
              "        vertical-align: middle;\n",
              "    }\n",
              "\n",
              "    .dataframe tbody tr th {\n",
              "        vertical-align: top;\n",
              "    }\n",
              "\n",
              "    .dataframe thead th {\n",
              "        text-align: right;\n",
              "    }\n",
              "</style>\n",
              "<table border=\"1\" class=\"dataframe\">\n",
              "  <thead>\n",
              "    <tr style=\"text-align: right;\">\n",
              "      <th></th>\n",
              "      <th>cleanTokens</th>\n",
              "      <th>document</th>\n",
              "    </tr>\n",
              "    <tr>\n",
              "      <th>origin_index</th>\n",
              "      <th></th>\n",
              "      <th></th>\n",
              "    </tr>\n",
              "  </thead>\n",
              "  <tbody>\n",
              "    <tr>\n",
              "      <th>0</th>\n",
              "      <td>[Baltimore, plant, recently, scrap, 15, millio...</td>\n",
              "      <td>The Baltimore plant that recently had to scrap...</td>\n",
              "    </tr>\n",
              "  </tbody>\n",
              "</table>\n",
              "</div>"
            ],
            "text/plain": [
              "                                                    cleanTokens                                           document\n",
              "origin_index                                                                                                      \n",
              "0             [Baltimore, plant, recently, scrap, 15, millio...  The Baltimore plant that recently had to scrap..."
            ]
          },
          "metadata": {
            "tags": []
          },
          "execution_count": 14
        }
      ]
    },
    {
      "cell_type": "code",
      "metadata": {
        "colab": {
          "base_uri": "https://localhost:8080/"
        },
        "id": "Ns906jKVBfG4",
        "outputId": "54e3a4a5-97b8-41af-f9a6-92d9a6c3e4ae"
      },
      "source": [
        "result.columns"
      ],
      "execution_count": null,
      "outputs": [
        {
          "output_type": "execute_result",
          "data": {
            "text/plain": [
              "Index(['cleanTokens', 'document'], dtype='object')"
            ]
          },
          "metadata": {
            "tags": []
          },
          "execution_count": 15
        }
      ]
    },
    {
      "cell_type": "code",
      "metadata": {
        "colab": {
          "base_uri": "https://localhost:8080/"
        },
        "id": "SadBIgQpBfJm",
        "outputId": "0c8c3f6b-fc7a-42b4-a2e0-b20e9fda1a45"
      },
      "source": [
        "result.cleanTokens[0]"
      ],
      "execution_count": null,
      "outputs": [
        {
          "output_type": "execute_result",
          "data": {
            "text/plain": [
              "['Baltimore',\n",
              " 'plant',\n",
              " 'recently',\n",
              " 'scrap',\n",
              " '15',\n",
              " 'million',\n",
              " 'ruined',\n",
              " 'doses',\n",
              " 'flouted',\n",
              " 'rules',\n",
              " 'downplayed',\n",
              " 'errors',\n",
              " ',',\n",
              " 'internal',\n",
              " 'audits',\n",
              " ',',\n",
              " 'ex-employees',\n",
              " 'clients',\n",
              " '.',\n",
              " 'doses',\n",
              " 'scrapped',\n",
              " 'year',\n",
              " '.']"
            ]
          },
          "metadata": {
            "tags": []
          },
          "execution_count": 16
        }
      ]
    },
    {
      "cell_type": "code",
      "metadata": {
        "colab": {
          "base_uri": "https://localhost:8080/",
          "height": 52
        },
        "id": "L_wT9zZzBwgI",
        "outputId": "f181170c-067e-43ee-dcd5-bab8ba39ce51"
      },
      "source": [
        "result.document[0]"
      ],
      "execution_count": null,
      "outputs": [
        {
          "output_type": "execute_result",
          "data": {
            "application/vnd.google.colaboratory.intrinsic+json": {
              "type": "string"
            },
            "text/plain": [
              "'The Baltimore plant that recently had to scrap up to 15 million ruined doses had flouted rules and downplayed errors, according to internal audits, ex-employees and clients. Other doses had to be scrapped last year.'"
            ]
          },
          "metadata": {
            "tags": []
          },
          "execution_count": 17
        }
      ]
    },
    {
      "cell_type": "markdown",
      "metadata": {
        "id": "BzgPmAu26hFd"
      },
      "source": [
        "## 4.6 Spelling check"
      ]
    },
    {
      "cell_type": "code",
      "metadata": {
        "colab": {
          "base_uri": "https://localhost:8080/"
        },
        "id": "-PyLB-p26hhO",
        "outputId": "18e94e60-6242-4ee0-a016-c3434c3a9e30"
      },
      "source": [
        "spelling_pipe = nlu.load('spell')\n"
      ],
      "execution_count": null,
      "outputs": [
        {
          "output_type": "stream",
          "text": [
            "spellcheck_dl download started this may take some time.\n",
            "Approximate size to download 112.2 MB\n",
            "[OK!]\n"
          ],
          "name": "stdout"
        }
      ]
    },
    {
      "cell_type": "code",
      "metadata": {
        "id": "kSbl3vSADu8B"
      },
      "source": [
        "check = spelling_pipe.predict('i liek to misspell many worfs, whta is wrog?')"
      ],
      "execution_count": null,
      "outputs": []
    },
    {
      "cell_type": "code",
      "metadata": {
        "colab": {
          "base_uri": "https://localhost:8080/",
          "height": 402
        },
        "id": "fVdxKsvADbXQ",
        "outputId": "4b55ab9a-b18f-4d20-af15-a12b4a3a1c8e"
      },
      "source": [
        "check"
      ],
      "execution_count": null,
      "outputs": [
        {
          "output_type": "execute_result",
          "data": {
            "text/html": [
              "<div>\n",
              "<style scoped>\n",
              "    .dataframe tbody tr th:only-of-type {\n",
              "        vertical-align: middle;\n",
              "    }\n",
              "\n",
              "    .dataframe tbody tr th {\n",
              "        vertical-align: top;\n",
              "    }\n",
              "\n",
              "    .dataframe thead th {\n",
              "        text-align: right;\n",
              "    }\n",
              "</style>\n",
              "<table border=\"1\" class=\"dataframe\">\n",
              "  <thead>\n",
              "    <tr style=\"text-align: right;\">\n",
              "      <th></th>\n",
              "      <th>token</th>\n",
              "      <th>spell</th>\n",
              "    </tr>\n",
              "    <tr>\n",
              "      <th>origin_index</th>\n",
              "      <th></th>\n",
              "      <th></th>\n",
              "    </tr>\n",
              "  </thead>\n",
              "  <tbody>\n",
              "    <tr>\n",
              "      <th>0</th>\n",
              "      <td>i</td>\n",
              "      <td>i</td>\n",
              "    </tr>\n",
              "    <tr>\n",
              "      <th>0</th>\n",
              "      <td>liek</td>\n",
              "      <td>like</td>\n",
              "    </tr>\n",
              "    <tr>\n",
              "      <th>0</th>\n",
              "      <td>to</td>\n",
              "      <td>to</td>\n",
              "    </tr>\n",
              "    <tr>\n",
              "      <th>0</th>\n",
              "      <td>misspell</td>\n",
              "      <td>Cassell</td>\n",
              "    </tr>\n",
              "    <tr>\n",
              "      <th>0</th>\n",
              "      <td>many</td>\n",
              "      <td>many</td>\n",
              "    </tr>\n",
              "    <tr>\n",
              "      <th>0</th>\n",
              "      <td>worfs</td>\n",
              "      <td>words</td>\n",
              "    </tr>\n",
              "    <tr>\n",
              "      <th>0</th>\n",
              "      <td>,</td>\n",
              "      <td>,</td>\n",
              "    </tr>\n",
              "    <tr>\n",
              "      <th>0</th>\n",
              "      <td>whta</td>\n",
              "      <td>what</td>\n",
              "    </tr>\n",
              "    <tr>\n",
              "      <th>0</th>\n",
              "      <td>is</td>\n",
              "      <td>is</td>\n",
              "    </tr>\n",
              "    <tr>\n",
              "      <th>0</th>\n",
              "      <td>wrog</td>\n",
              "      <td>wrong</td>\n",
              "    </tr>\n",
              "    <tr>\n",
              "      <th>0</th>\n",
              "      <td>?</td>\n",
              "      <td>?</td>\n",
              "    </tr>\n",
              "  </tbody>\n",
              "</table>\n",
              "</div>"
            ],
            "text/plain": [
              "                 token    spell\n",
              "origin_index                   \n",
              "0                    i        i\n",
              "0                 liek     like\n",
              "0                   to       to\n",
              "0             misspell  Cassell\n",
              "0                 many     many\n",
              "0                worfs    words\n",
              "0                    ,        ,\n",
              "0                 whta     what\n",
              "0                   is       is\n",
              "0                 wrog    wrong\n",
              "0                    ?        ?"
            ]
          },
          "metadata": {
            "tags": []
          },
          "execution_count": 20
        }
      ]
    },
    {
      "cell_type": "markdown",
      "metadata": {
        "id": "ln5yUBCV6ho9"
      },
      "source": [
        "## 4.7 N-grams"
      ]
    },
    {
      "cell_type": "code",
      "metadata": {
        "id": "aaTvTbMV6hwX"
      },
      "source": [
        "example_text =  [\"A person like Jim or Joe\", \n",
        " \"An organisation like Microsoft or PETA\",\n",
        " \"A location like Germany\",\n",
        " \"Anything else like Playstation\", \n",
        " \"Person consisting of multiple tokens like Angela Merkel or Donald Trump\",\n",
        " \"Organisations consisting of multiple tokens like JP Morgan\",\n",
        " \"Locations consiting of multiple tokens like Los Angeles\", \n",
        " \"Anything else made up of multiple tokens like Super Nintendo\",]\n"
      ],
      "execution_count": null,
      "outputs": []
    },
    {
      "cell_type": "code",
      "metadata": {
        "colab": {
          "base_uri": "https://localhost:8080/"
        },
        "id": "lsxLVdRSEqv4",
        "outputId": "e36317a2-41f1-4cc8-b955-6f56ef038226"
      },
      "source": [
        "ngram_pipe = nlu.load('ngram')"
      ],
      "execution_count": null,
      "outputs": [
        {
          "output_type": "stream",
          "text": [
            "pos_anc download started this may take some time.\n",
            "Approximate size to download 4.3 MB\n",
            "[OK!]\n"
          ],
          "name": "stdout"
        }
      ]
    },
    {
      "cell_type": "code",
      "metadata": {
        "colab": {
          "base_uri": "https://localhost:8080/",
          "height": 1000
        },
        "id": "e2WRGnHAEtn_",
        "outputId": "5ae5bd0e-4404-463f-aa81-d6fadf51e141"
      },
      "source": [
        "ngram_pipe.predict(example_text)"
      ],
      "execution_count": null,
      "outputs": [
        {
          "output_type": "execute_result",
          "data": {
            "text/html": [
              "<div>\n",
              "<style scoped>\n",
              "    .dataframe tbody tr th:only-of-type {\n",
              "        vertical-align: middle;\n",
              "    }\n",
              "\n",
              "    .dataframe tbody tr th {\n",
              "        vertical-align: top;\n",
              "    }\n",
              "\n",
              "    .dataframe thead th {\n",
              "        text-align: right;\n",
              "    }\n",
              "</style>\n",
              "<table border=\"1\" class=\"dataframe\">\n",
              "  <thead>\n",
              "    <tr style=\"text-align: right;\">\n",
              "      <th></th>\n",
              "      <th>pos</th>\n",
              "      <th>ngrams</th>\n",
              "    </tr>\n",
              "    <tr>\n",
              "      <th>origin_index</th>\n",
              "      <th></th>\n",
              "      <th></th>\n",
              "    </tr>\n",
              "  </thead>\n",
              "  <tbody>\n",
              "    <tr>\n",
              "      <th>0</th>\n",
              "      <td>[DT, NN, IN, NNP, CC, NNP]</td>\n",
              "      <td>A person</td>\n",
              "    </tr>\n",
              "    <tr>\n",
              "      <th>0</th>\n",
              "      <td>[DT, NN, IN, NNP, CC, NNP]</td>\n",
              "      <td>person like</td>\n",
              "    </tr>\n",
              "    <tr>\n",
              "      <th>0</th>\n",
              "      <td>[DT, NN, IN, NNP, CC, NNP]</td>\n",
              "      <td>like Jim</td>\n",
              "    </tr>\n",
              "    <tr>\n",
              "      <th>0</th>\n",
              "      <td>[DT, NN, IN, NNP, CC, NNP]</td>\n",
              "      <td>Jim or</td>\n",
              "    </tr>\n",
              "    <tr>\n",
              "      <th>0</th>\n",
              "      <td>[DT, NN, IN, NNP, CC, NNP]</td>\n",
              "      <td>or Joe</td>\n",
              "    </tr>\n",
              "    <tr>\n",
              "      <th>1</th>\n",
              "      <td>[DT, NN, IN, NNP, CC, NNP]</td>\n",
              "      <td>An organisation</td>\n",
              "    </tr>\n",
              "    <tr>\n",
              "      <th>1</th>\n",
              "      <td>[DT, NN, IN, NNP, CC, NNP]</td>\n",
              "      <td>organisation like</td>\n",
              "    </tr>\n",
              "    <tr>\n",
              "      <th>1</th>\n",
              "      <td>[DT, NN, IN, NNP, CC, NNP]</td>\n",
              "      <td>like Microsoft</td>\n",
              "    </tr>\n",
              "    <tr>\n",
              "      <th>1</th>\n",
              "      <td>[DT, NN, IN, NNP, CC, NNP]</td>\n",
              "      <td>Microsoft or</td>\n",
              "    </tr>\n",
              "    <tr>\n",
              "      <th>1</th>\n",
              "      <td>[DT, NN, IN, NNP, CC, NNP]</td>\n",
              "      <td>or PETA</td>\n",
              "    </tr>\n",
              "    <tr>\n",
              "      <th>2</th>\n",
              "      <td>[DT, NN, IN, NNP]</td>\n",
              "      <td>A location</td>\n",
              "    </tr>\n",
              "    <tr>\n",
              "      <th>2</th>\n",
              "      <td>[DT, NN, IN, NNP]</td>\n",
              "      <td>location like</td>\n",
              "    </tr>\n",
              "    <tr>\n",
              "      <th>2</th>\n",
              "      <td>[DT, NN, IN, NNP]</td>\n",
              "      <td>like Germany</td>\n",
              "    </tr>\n",
              "    <tr>\n",
              "      <th>3</th>\n",
              "      <td>[NN, RB, IN, NNP]</td>\n",
              "      <td>Anything else</td>\n",
              "    </tr>\n",
              "    <tr>\n",
              "      <th>3</th>\n",
              "      <td>[NN, RB, IN, NNP]</td>\n",
              "      <td>else like</td>\n",
              "    </tr>\n",
              "    <tr>\n",
              "      <th>3</th>\n",
              "      <td>[NN, RB, IN, NNP]</td>\n",
              "      <td>like Playstation</td>\n",
              "    </tr>\n",
              "    <tr>\n",
              "      <th>4</th>\n",
              "      <td>[NN, VBG, IN, JJ, NNS, IN, NNP, NNP, CC, NNP, ...</td>\n",
              "      <td>Person consisting</td>\n",
              "    </tr>\n",
              "    <tr>\n",
              "      <th>4</th>\n",
              "      <td>[NN, VBG, IN, JJ, NNS, IN, NNP, NNP, CC, NNP, ...</td>\n",
              "      <td>consisting of</td>\n",
              "    </tr>\n",
              "    <tr>\n",
              "      <th>4</th>\n",
              "      <td>[NN, VBG, IN, JJ, NNS, IN, NNP, NNP, CC, NNP, ...</td>\n",
              "      <td>of multiple</td>\n",
              "    </tr>\n",
              "    <tr>\n",
              "      <th>4</th>\n",
              "      <td>[NN, VBG, IN, JJ, NNS, IN, NNP, NNP, CC, NNP, ...</td>\n",
              "      <td>multiple tokens</td>\n",
              "    </tr>\n",
              "    <tr>\n",
              "      <th>4</th>\n",
              "      <td>[NN, VBG, IN, JJ, NNS, IN, NNP, NNP, CC, NNP, ...</td>\n",
              "      <td>tokens like</td>\n",
              "    </tr>\n",
              "    <tr>\n",
              "      <th>4</th>\n",
              "      <td>[NN, VBG, IN, JJ, NNS, IN, NNP, NNP, CC, NNP, ...</td>\n",
              "      <td>like Angela</td>\n",
              "    </tr>\n",
              "    <tr>\n",
              "      <th>4</th>\n",
              "      <td>[NN, VBG, IN, JJ, NNS, IN, NNP, NNP, CC, NNP, ...</td>\n",
              "      <td>Angela Merkel</td>\n",
              "    </tr>\n",
              "    <tr>\n",
              "      <th>4</th>\n",
              "      <td>[NN, VBG, IN, JJ, NNS, IN, NNP, NNP, CC, NNP, ...</td>\n",
              "      <td>Merkel or</td>\n",
              "    </tr>\n",
              "    <tr>\n",
              "      <th>4</th>\n",
              "      <td>[NN, VBG, IN, JJ, NNS, IN, NNP, NNP, CC, NNP, ...</td>\n",
              "      <td>or Donald</td>\n",
              "    </tr>\n",
              "    <tr>\n",
              "      <th>4</th>\n",
              "      <td>[NN, VBG, IN, JJ, NNS, IN, NNP, NNP, CC, NNP, ...</td>\n",
              "      <td>Donald Trump</td>\n",
              "    </tr>\n",
              "    <tr>\n",
              "      <th>5</th>\n",
              "      <td>[NNP, VBG, IN, JJ, NNS, IN, NNP, NNP]</td>\n",
              "      <td>Organisations consisting</td>\n",
              "    </tr>\n",
              "    <tr>\n",
              "      <th>5</th>\n",
              "      <td>[NNP, VBG, IN, JJ, NNS, IN, NNP, NNP]</td>\n",
              "      <td>consisting of</td>\n",
              "    </tr>\n",
              "    <tr>\n",
              "      <th>5</th>\n",
              "      <td>[NNP, VBG, IN, JJ, NNS, IN, NNP, NNP]</td>\n",
              "      <td>of multiple</td>\n",
              "    </tr>\n",
              "    <tr>\n",
              "      <th>5</th>\n",
              "      <td>[NNP, VBG, IN, JJ, NNS, IN, NNP, NNP]</td>\n",
              "      <td>multiple tokens</td>\n",
              "    </tr>\n",
              "    <tr>\n",
              "      <th>5</th>\n",
              "      <td>[NNP, VBG, IN, JJ, NNS, IN, NNP, NNP]</td>\n",
              "      <td>tokens like</td>\n",
              "    </tr>\n",
              "    <tr>\n",
              "      <th>5</th>\n",
              "      <td>[NNP, VBG, IN, JJ, NNS, IN, NNP, NNP]</td>\n",
              "      <td>like JP</td>\n",
              "    </tr>\n",
              "    <tr>\n",
              "      <th>5</th>\n",
              "      <td>[NNP, VBG, IN, JJ, NNS, IN, NNP, NNP]</td>\n",
              "      <td>JP Morgan</td>\n",
              "    </tr>\n",
              "    <tr>\n",
              "      <th>6</th>\n",
              "      <td>[NNP, VBG, IN, JJ, NNS, IN, NNP, NNP]</td>\n",
              "      <td>Locations consiting</td>\n",
              "    </tr>\n",
              "    <tr>\n",
              "      <th>6</th>\n",
              "      <td>[NNP, VBG, IN, JJ, NNS, IN, NNP, NNP]</td>\n",
              "      <td>consiting of</td>\n",
              "    </tr>\n",
              "    <tr>\n",
              "      <th>6</th>\n",
              "      <td>[NNP, VBG, IN, JJ, NNS, IN, NNP, NNP]</td>\n",
              "      <td>of multiple</td>\n",
              "    </tr>\n",
              "    <tr>\n",
              "      <th>6</th>\n",
              "      <td>[NNP, VBG, IN, JJ, NNS, IN, NNP, NNP]</td>\n",
              "      <td>multiple tokens</td>\n",
              "    </tr>\n",
              "    <tr>\n",
              "      <th>6</th>\n",
              "      <td>[NNP, VBG, IN, JJ, NNS, IN, NNP, NNP]</td>\n",
              "      <td>tokens like</td>\n",
              "    </tr>\n",
              "    <tr>\n",
              "      <th>6</th>\n",
              "      <td>[NNP, VBG, IN, JJ, NNS, IN, NNP, NNP]</td>\n",
              "      <td>like Los</td>\n",
              "    </tr>\n",
              "    <tr>\n",
              "      <th>6</th>\n",
              "      <td>[NNP, VBG, IN, JJ, NNS, IN, NNP, NNP]</td>\n",
              "      <td>Los Angeles</td>\n",
              "    </tr>\n",
              "    <tr>\n",
              "      <th>7</th>\n",
              "      <td>[NN, RB, VBN, RP, IN, JJ, NNS, IN, NNP, NNP]</td>\n",
              "      <td>Anything else</td>\n",
              "    </tr>\n",
              "    <tr>\n",
              "      <th>7</th>\n",
              "      <td>[NN, RB, VBN, RP, IN, JJ, NNS, IN, NNP, NNP]</td>\n",
              "      <td>else made</td>\n",
              "    </tr>\n",
              "    <tr>\n",
              "      <th>7</th>\n",
              "      <td>[NN, RB, VBN, RP, IN, JJ, NNS, IN, NNP, NNP]</td>\n",
              "      <td>made up</td>\n",
              "    </tr>\n",
              "    <tr>\n",
              "      <th>7</th>\n",
              "      <td>[NN, RB, VBN, RP, IN, JJ, NNS, IN, NNP, NNP]</td>\n",
              "      <td>up of</td>\n",
              "    </tr>\n",
              "    <tr>\n",
              "      <th>7</th>\n",
              "      <td>[NN, RB, VBN, RP, IN, JJ, NNS, IN, NNP, NNP]</td>\n",
              "      <td>of multiple</td>\n",
              "    </tr>\n",
              "    <tr>\n",
              "      <th>7</th>\n",
              "      <td>[NN, RB, VBN, RP, IN, JJ, NNS, IN, NNP, NNP]</td>\n",
              "      <td>multiple tokens</td>\n",
              "    </tr>\n",
              "    <tr>\n",
              "      <th>7</th>\n",
              "      <td>[NN, RB, VBN, RP, IN, JJ, NNS, IN, NNP, NNP]</td>\n",
              "      <td>tokens like</td>\n",
              "    </tr>\n",
              "    <tr>\n",
              "      <th>7</th>\n",
              "      <td>[NN, RB, VBN, RP, IN, JJ, NNS, IN, NNP, NNP]</td>\n",
              "      <td>like Super</td>\n",
              "    </tr>\n",
              "    <tr>\n",
              "      <th>7</th>\n",
              "      <td>[NN, RB, VBN, RP, IN, JJ, NNS, IN, NNP, NNP]</td>\n",
              "      <td>Super Nintendo</td>\n",
              "    </tr>\n",
              "  </tbody>\n",
              "</table>\n",
              "</div>"
            ],
            "text/plain": [
              "                                                            pos                    ngrams\n",
              "origin_index                                                                             \n",
              "0                                    [DT, NN, IN, NNP, CC, NNP]                  A person\n",
              "0                                    [DT, NN, IN, NNP, CC, NNP]               person like\n",
              "0                                    [DT, NN, IN, NNP, CC, NNP]                  like Jim\n",
              "0                                    [DT, NN, IN, NNP, CC, NNP]                    Jim or\n",
              "0                                    [DT, NN, IN, NNP, CC, NNP]                    or Joe\n",
              "1                                    [DT, NN, IN, NNP, CC, NNP]           An organisation\n",
              "1                                    [DT, NN, IN, NNP, CC, NNP]         organisation like\n",
              "1                                    [DT, NN, IN, NNP, CC, NNP]            like Microsoft\n",
              "1                                    [DT, NN, IN, NNP, CC, NNP]              Microsoft or\n",
              "1                                    [DT, NN, IN, NNP, CC, NNP]                   or PETA\n",
              "2                                             [DT, NN, IN, NNP]                A location\n",
              "2                                             [DT, NN, IN, NNP]             location like\n",
              "2                                             [DT, NN, IN, NNP]              like Germany\n",
              "3                                             [NN, RB, IN, NNP]             Anything else\n",
              "3                                             [NN, RB, IN, NNP]                 else like\n",
              "3                                             [NN, RB, IN, NNP]          like Playstation\n",
              "4             [NN, VBG, IN, JJ, NNS, IN, NNP, NNP, CC, NNP, ...         Person consisting\n",
              "4             [NN, VBG, IN, JJ, NNS, IN, NNP, NNP, CC, NNP, ...             consisting of\n",
              "4             [NN, VBG, IN, JJ, NNS, IN, NNP, NNP, CC, NNP, ...               of multiple\n",
              "4             [NN, VBG, IN, JJ, NNS, IN, NNP, NNP, CC, NNP, ...           multiple tokens\n",
              "4             [NN, VBG, IN, JJ, NNS, IN, NNP, NNP, CC, NNP, ...               tokens like\n",
              "4             [NN, VBG, IN, JJ, NNS, IN, NNP, NNP, CC, NNP, ...               like Angela\n",
              "4             [NN, VBG, IN, JJ, NNS, IN, NNP, NNP, CC, NNP, ...             Angela Merkel\n",
              "4             [NN, VBG, IN, JJ, NNS, IN, NNP, NNP, CC, NNP, ...                 Merkel or\n",
              "4             [NN, VBG, IN, JJ, NNS, IN, NNP, NNP, CC, NNP, ...                 or Donald\n",
              "4             [NN, VBG, IN, JJ, NNS, IN, NNP, NNP, CC, NNP, ...              Donald Trump\n",
              "5                         [NNP, VBG, IN, JJ, NNS, IN, NNP, NNP]  Organisations consisting\n",
              "5                         [NNP, VBG, IN, JJ, NNS, IN, NNP, NNP]             consisting of\n",
              "5                         [NNP, VBG, IN, JJ, NNS, IN, NNP, NNP]               of multiple\n",
              "5                         [NNP, VBG, IN, JJ, NNS, IN, NNP, NNP]           multiple tokens\n",
              "5                         [NNP, VBG, IN, JJ, NNS, IN, NNP, NNP]               tokens like\n",
              "5                         [NNP, VBG, IN, JJ, NNS, IN, NNP, NNP]                   like JP\n",
              "5                         [NNP, VBG, IN, JJ, NNS, IN, NNP, NNP]                 JP Morgan\n",
              "6                         [NNP, VBG, IN, JJ, NNS, IN, NNP, NNP]       Locations consiting\n",
              "6                         [NNP, VBG, IN, JJ, NNS, IN, NNP, NNP]              consiting of\n",
              "6                         [NNP, VBG, IN, JJ, NNS, IN, NNP, NNP]               of multiple\n",
              "6                         [NNP, VBG, IN, JJ, NNS, IN, NNP, NNP]           multiple tokens\n",
              "6                         [NNP, VBG, IN, JJ, NNS, IN, NNP, NNP]               tokens like\n",
              "6                         [NNP, VBG, IN, JJ, NNS, IN, NNP, NNP]                  like Los\n",
              "6                         [NNP, VBG, IN, JJ, NNS, IN, NNP, NNP]               Los Angeles\n",
              "7                  [NN, RB, VBN, RP, IN, JJ, NNS, IN, NNP, NNP]             Anything else\n",
              "7                  [NN, RB, VBN, RP, IN, JJ, NNS, IN, NNP, NNP]                 else made\n",
              "7                  [NN, RB, VBN, RP, IN, JJ, NNS, IN, NNP, NNP]                   made up\n",
              "7                  [NN, RB, VBN, RP, IN, JJ, NNS, IN, NNP, NNP]                     up of\n",
              "7                  [NN, RB, VBN, RP, IN, JJ, NNS, IN, NNP, NNP]               of multiple\n",
              "7                  [NN, RB, VBN, RP, IN, JJ, NNS, IN, NNP, NNP]           multiple tokens\n",
              "7                  [NN, RB, VBN, RP, IN, JJ, NNS, IN, NNP, NNP]               tokens like\n",
              "7                  [NN, RB, VBN, RP, IN, JJ, NNS, IN, NNP, NNP]                like Super\n",
              "7                  [NN, RB, VBN, RP, IN, JJ, NNS, IN, NNP, NNP]            Super Nintendo"
            ]
          },
          "metadata": {
            "tags": []
          },
          "execution_count": 23
        }
      ]
    },
    {
      "cell_type": "code",
      "metadata": {
        "colab": {
          "base_uri": "https://localhost:8080/"
        },
        "id": "K8fypFLdEtqf",
        "outputId": "7fd3e48a-40f5-44a2-a538-0b8aceb103aa"
      },
      "source": [
        "ngram_pipe['ngram'].setN(3)"
      ],
      "execution_count": null,
      "outputs": [
        {
          "output_type": "execute_result",
          "data": {
            "text/plain": [
              "NGramGenerator_5baec0b04613"
            ]
          },
          "metadata": {
            "tags": []
          },
          "execution_count": 24
        }
      ]
    },
    {
      "cell_type": "code",
      "metadata": {
        "colab": {
          "base_uri": "https://localhost:8080/",
          "height": 1000
        },
        "id": "DBkbHzWiFEf_",
        "outputId": "8589a5cf-ceac-44fc-f8b3-cc35a2091c32"
      },
      "source": [
        "ngram_pipe.predict(example_text)"
      ],
      "execution_count": null,
      "outputs": [
        {
          "output_type": "execute_result",
          "data": {
            "text/html": [
              "<div>\n",
              "<style scoped>\n",
              "    .dataframe tbody tr th:only-of-type {\n",
              "        vertical-align: middle;\n",
              "    }\n",
              "\n",
              "    .dataframe tbody tr th {\n",
              "        vertical-align: top;\n",
              "    }\n",
              "\n",
              "    .dataframe thead th {\n",
              "        text-align: right;\n",
              "    }\n",
              "</style>\n",
              "<table border=\"1\" class=\"dataframe\">\n",
              "  <thead>\n",
              "    <tr style=\"text-align: right;\">\n",
              "      <th></th>\n",
              "      <th>pos</th>\n",
              "      <th>ngrams</th>\n",
              "    </tr>\n",
              "    <tr>\n",
              "      <th>origin_index</th>\n",
              "      <th></th>\n",
              "      <th></th>\n",
              "    </tr>\n",
              "  </thead>\n",
              "  <tbody>\n",
              "    <tr>\n",
              "      <th>0</th>\n",
              "      <td>[DT, NN, IN, NNP, CC, NNP]</td>\n",
              "      <td>A person like</td>\n",
              "    </tr>\n",
              "    <tr>\n",
              "      <th>0</th>\n",
              "      <td>[DT, NN, IN, NNP, CC, NNP]</td>\n",
              "      <td>person like Jim</td>\n",
              "    </tr>\n",
              "    <tr>\n",
              "      <th>0</th>\n",
              "      <td>[DT, NN, IN, NNP, CC, NNP]</td>\n",
              "      <td>like Jim or</td>\n",
              "    </tr>\n",
              "    <tr>\n",
              "      <th>0</th>\n",
              "      <td>[DT, NN, IN, NNP, CC, NNP]</td>\n",
              "      <td>Jim or Joe</td>\n",
              "    </tr>\n",
              "    <tr>\n",
              "      <th>1</th>\n",
              "      <td>[DT, NN, IN, NNP, CC, NNP]</td>\n",
              "      <td>An organisation like</td>\n",
              "    </tr>\n",
              "    <tr>\n",
              "      <th>1</th>\n",
              "      <td>[DT, NN, IN, NNP, CC, NNP]</td>\n",
              "      <td>organisation like Microsoft</td>\n",
              "    </tr>\n",
              "    <tr>\n",
              "      <th>1</th>\n",
              "      <td>[DT, NN, IN, NNP, CC, NNP]</td>\n",
              "      <td>like Microsoft or</td>\n",
              "    </tr>\n",
              "    <tr>\n",
              "      <th>1</th>\n",
              "      <td>[DT, NN, IN, NNP, CC, NNP]</td>\n",
              "      <td>Microsoft or PETA</td>\n",
              "    </tr>\n",
              "    <tr>\n",
              "      <th>2</th>\n",
              "      <td>[DT, NN, IN, NNP]</td>\n",
              "      <td>A location like</td>\n",
              "    </tr>\n",
              "    <tr>\n",
              "      <th>2</th>\n",
              "      <td>[DT, NN, IN, NNP]</td>\n",
              "      <td>location like Germany</td>\n",
              "    </tr>\n",
              "    <tr>\n",
              "      <th>3</th>\n",
              "      <td>[NN, RB, IN, NNP]</td>\n",
              "      <td>Anything else like</td>\n",
              "    </tr>\n",
              "    <tr>\n",
              "      <th>3</th>\n",
              "      <td>[NN, RB, IN, NNP]</td>\n",
              "      <td>else like Playstation</td>\n",
              "    </tr>\n",
              "    <tr>\n",
              "      <th>4</th>\n",
              "      <td>[NN, VBG, IN, JJ, NNS, IN, NNP, NNP, CC, NNP, ...</td>\n",
              "      <td>Person consisting of</td>\n",
              "    </tr>\n",
              "    <tr>\n",
              "      <th>4</th>\n",
              "      <td>[NN, VBG, IN, JJ, NNS, IN, NNP, NNP, CC, NNP, ...</td>\n",
              "      <td>consisting of multiple</td>\n",
              "    </tr>\n",
              "    <tr>\n",
              "      <th>4</th>\n",
              "      <td>[NN, VBG, IN, JJ, NNS, IN, NNP, NNP, CC, NNP, ...</td>\n",
              "      <td>of multiple tokens</td>\n",
              "    </tr>\n",
              "    <tr>\n",
              "      <th>4</th>\n",
              "      <td>[NN, VBG, IN, JJ, NNS, IN, NNP, NNP, CC, NNP, ...</td>\n",
              "      <td>multiple tokens like</td>\n",
              "    </tr>\n",
              "    <tr>\n",
              "      <th>4</th>\n",
              "      <td>[NN, VBG, IN, JJ, NNS, IN, NNP, NNP, CC, NNP, ...</td>\n",
              "      <td>tokens like Angela</td>\n",
              "    </tr>\n",
              "    <tr>\n",
              "      <th>4</th>\n",
              "      <td>[NN, VBG, IN, JJ, NNS, IN, NNP, NNP, CC, NNP, ...</td>\n",
              "      <td>like Angela Merkel</td>\n",
              "    </tr>\n",
              "    <tr>\n",
              "      <th>4</th>\n",
              "      <td>[NN, VBG, IN, JJ, NNS, IN, NNP, NNP, CC, NNP, ...</td>\n",
              "      <td>Angela Merkel or</td>\n",
              "    </tr>\n",
              "    <tr>\n",
              "      <th>4</th>\n",
              "      <td>[NN, VBG, IN, JJ, NNS, IN, NNP, NNP, CC, NNP, ...</td>\n",
              "      <td>Merkel or Donald</td>\n",
              "    </tr>\n",
              "    <tr>\n",
              "      <th>4</th>\n",
              "      <td>[NN, VBG, IN, JJ, NNS, IN, NNP, NNP, CC, NNP, ...</td>\n",
              "      <td>or Donald Trump</td>\n",
              "    </tr>\n",
              "    <tr>\n",
              "      <th>5</th>\n",
              "      <td>[NNP, VBG, IN, JJ, NNS, IN, NNP, NNP]</td>\n",
              "      <td>Organisations consisting of</td>\n",
              "    </tr>\n",
              "    <tr>\n",
              "      <th>5</th>\n",
              "      <td>[NNP, VBG, IN, JJ, NNS, IN, NNP, NNP]</td>\n",
              "      <td>consisting of multiple</td>\n",
              "    </tr>\n",
              "    <tr>\n",
              "      <th>5</th>\n",
              "      <td>[NNP, VBG, IN, JJ, NNS, IN, NNP, NNP]</td>\n",
              "      <td>of multiple tokens</td>\n",
              "    </tr>\n",
              "    <tr>\n",
              "      <th>5</th>\n",
              "      <td>[NNP, VBG, IN, JJ, NNS, IN, NNP, NNP]</td>\n",
              "      <td>multiple tokens like</td>\n",
              "    </tr>\n",
              "    <tr>\n",
              "      <th>5</th>\n",
              "      <td>[NNP, VBG, IN, JJ, NNS, IN, NNP, NNP]</td>\n",
              "      <td>tokens like JP</td>\n",
              "    </tr>\n",
              "    <tr>\n",
              "      <th>5</th>\n",
              "      <td>[NNP, VBG, IN, JJ, NNS, IN, NNP, NNP]</td>\n",
              "      <td>like JP Morgan</td>\n",
              "    </tr>\n",
              "    <tr>\n",
              "      <th>6</th>\n",
              "      <td>[NNP, VBG, IN, JJ, NNS, IN, NNP, NNP]</td>\n",
              "      <td>Locations consiting of</td>\n",
              "    </tr>\n",
              "    <tr>\n",
              "      <th>6</th>\n",
              "      <td>[NNP, VBG, IN, JJ, NNS, IN, NNP, NNP]</td>\n",
              "      <td>consiting of multiple</td>\n",
              "    </tr>\n",
              "    <tr>\n",
              "      <th>6</th>\n",
              "      <td>[NNP, VBG, IN, JJ, NNS, IN, NNP, NNP]</td>\n",
              "      <td>of multiple tokens</td>\n",
              "    </tr>\n",
              "    <tr>\n",
              "      <th>6</th>\n",
              "      <td>[NNP, VBG, IN, JJ, NNS, IN, NNP, NNP]</td>\n",
              "      <td>multiple tokens like</td>\n",
              "    </tr>\n",
              "    <tr>\n",
              "      <th>6</th>\n",
              "      <td>[NNP, VBG, IN, JJ, NNS, IN, NNP, NNP]</td>\n",
              "      <td>tokens like Los</td>\n",
              "    </tr>\n",
              "    <tr>\n",
              "      <th>6</th>\n",
              "      <td>[NNP, VBG, IN, JJ, NNS, IN, NNP, NNP]</td>\n",
              "      <td>like Los Angeles</td>\n",
              "    </tr>\n",
              "    <tr>\n",
              "      <th>7</th>\n",
              "      <td>[NN, RB, VBN, RP, IN, JJ, NNS, IN, NNP, NNP]</td>\n",
              "      <td>Anything else made</td>\n",
              "    </tr>\n",
              "    <tr>\n",
              "      <th>7</th>\n",
              "      <td>[NN, RB, VBN, RP, IN, JJ, NNS, IN, NNP, NNP]</td>\n",
              "      <td>else made up</td>\n",
              "    </tr>\n",
              "    <tr>\n",
              "      <th>7</th>\n",
              "      <td>[NN, RB, VBN, RP, IN, JJ, NNS, IN, NNP, NNP]</td>\n",
              "      <td>made up of</td>\n",
              "    </tr>\n",
              "    <tr>\n",
              "      <th>7</th>\n",
              "      <td>[NN, RB, VBN, RP, IN, JJ, NNS, IN, NNP, NNP]</td>\n",
              "      <td>up of multiple</td>\n",
              "    </tr>\n",
              "    <tr>\n",
              "      <th>7</th>\n",
              "      <td>[NN, RB, VBN, RP, IN, JJ, NNS, IN, NNP, NNP]</td>\n",
              "      <td>of multiple tokens</td>\n",
              "    </tr>\n",
              "    <tr>\n",
              "      <th>7</th>\n",
              "      <td>[NN, RB, VBN, RP, IN, JJ, NNS, IN, NNP, NNP]</td>\n",
              "      <td>multiple tokens like</td>\n",
              "    </tr>\n",
              "    <tr>\n",
              "      <th>7</th>\n",
              "      <td>[NN, RB, VBN, RP, IN, JJ, NNS, IN, NNP, NNP]</td>\n",
              "      <td>tokens like Super</td>\n",
              "    </tr>\n",
              "    <tr>\n",
              "      <th>7</th>\n",
              "      <td>[NN, RB, VBN, RP, IN, JJ, NNS, IN, NNP, NNP]</td>\n",
              "      <td>like Super Nintendo</td>\n",
              "    </tr>\n",
              "  </tbody>\n",
              "</table>\n",
              "</div>"
            ],
            "text/plain": [
              "                                                            pos                       ngrams\n",
              "origin_index                                                                                \n",
              "0                                    [DT, NN, IN, NNP, CC, NNP]                A person like\n",
              "0                                    [DT, NN, IN, NNP, CC, NNP]              person like Jim\n",
              "0                                    [DT, NN, IN, NNP, CC, NNP]                  like Jim or\n",
              "0                                    [DT, NN, IN, NNP, CC, NNP]                   Jim or Joe\n",
              "1                                    [DT, NN, IN, NNP, CC, NNP]         An organisation like\n",
              "1                                    [DT, NN, IN, NNP, CC, NNP]  organisation like Microsoft\n",
              "1                                    [DT, NN, IN, NNP, CC, NNP]            like Microsoft or\n",
              "1                                    [DT, NN, IN, NNP, CC, NNP]            Microsoft or PETA\n",
              "2                                             [DT, NN, IN, NNP]              A location like\n",
              "2                                             [DT, NN, IN, NNP]        location like Germany\n",
              "3                                             [NN, RB, IN, NNP]           Anything else like\n",
              "3                                             [NN, RB, IN, NNP]        else like Playstation\n",
              "4             [NN, VBG, IN, JJ, NNS, IN, NNP, NNP, CC, NNP, ...         Person consisting of\n",
              "4             [NN, VBG, IN, JJ, NNS, IN, NNP, NNP, CC, NNP, ...       consisting of multiple\n",
              "4             [NN, VBG, IN, JJ, NNS, IN, NNP, NNP, CC, NNP, ...           of multiple tokens\n",
              "4             [NN, VBG, IN, JJ, NNS, IN, NNP, NNP, CC, NNP, ...         multiple tokens like\n",
              "4             [NN, VBG, IN, JJ, NNS, IN, NNP, NNP, CC, NNP, ...           tokens like Angela\n",
              "4             [NN, VBG, IN, JJ, NNS, IN, NNP, NNP, CC, NNP, ...           like Angela Merkel\n",
              "4             [NN, VBG, IN, JJ, NNS, IN, NNP, NNP, CC, NNP, ...             Angela Merkel or\n",
              "4             [NN, VBG, IN, JJ, NNS, IN, NNP, NNP, CC, NNP, ...             Merkel or Donald\n",
              "4             [NN, VBG, IN, JJ, NNS, IN, NNP, NNP, CC, NNP, ...              or Donald Trump\n",
              "5                         [NNP, VBG, IN, JJ, NNS, IN, NNP, NNP]  Organisations consisting of\n",
              "5                         [NNP, VBG, IN, JJ, NNS, IN, NNP, NNP]       consisting of multiple\n",
              "5                         [NNP, VBG, IN, JJ, NNS, IN, NNP, NNP]           of multiple tokens\n",
              "5                         [NNP, VBG, IN, JJ, NNS, IN, NNP, NNP]         multiple tokens like\n",
              "5                         [NNP, VBG, IN, JJ, NNS, IN, NNP, NNP]               tokens like JP\n",
              "5                         [NNP, VBG, IN, JJ, NNS, IN, NNP, NNP]               like JP Morgan\n",
              "6                         [NNP, VBG, IN, JJ, NNS, IN, NNP, NNP]       Locations consiting of\n",
              "6                         [NNP, VBG, IN, JJ, NNS, IN, NNP, NNP]        consiting of multiple\n",
              "6                         [NNP, VBG, IN, JJ, NNS, IN, NNP, NNP]           of multiple tokens\n",
              "6                         [NNP, VBG, IN, JJ, NNS, IN, NNP, NNP]         multiple tokens like\n",
              "6                         [NNP, VBG, IN, JJ, NNS, IN, NNP, NNP]              tokens like Los\n",
              "6                         [NNP, VBG, IN, JJ, NNS, IN, NNP, NNP]             like Los Angeles\n",
              "7                  [NN, RB, VBN, RP, IN, JJ, NNS, IN, NNP, NNP]           Anything else made\n",
              "7                  [NN, RB, VBN, RP, IN, JJ, NNS, IN, NNP, NNP]                 else made up\n",
              "7                  [NN, RB, VBN, RP, IN, JJ, NNS, IN, NNP, NNP]                   made up of\n",
              "7                  [NN, RB, VBN, RP, IN, JJ, NNS, IN, NNP, NNP]               up of multiple\n",
              "7                  [NN, RB, VBN, RP, IN, JJ, NNS, IN, NNP, NNP]           of multiple tokens\n",
              "7                  [NN, RB, VBN, RP, IN, JJ, NNS, IN, NNP, NNP]         multiple tokens like\n",
              "7                  [NN, RB, VBN, RP, IN, JJ, NNS, IN, NNP, NNP]            tokens like Super\n",
              "7                  [NN, RB, VBN, RP, IN, JJ, NNS, IN, NNP, NNP]          like Super Nintendo"
            ]
          },
          "metadata": {
            "tags": []
          },
          "execution_count": 25
        }
      ]
    },
    {
      "cell_type": "code",
      "metadata": {
        "colab": {
          "base_uri": "https://localhost:8080/",
          "height": 314
        },
        "id": "DyZOR5_dFL3h",
        "outputId": "8eda8632-82d2-4728-d14e-f1c787e87e39"
      },
      "source": [
        "ngram_pipe.predict(example_text,output_level='document')"
      ],
      "execution_count": null,
      "outputs": [
        {
          "output_type": "execute_result",
          "data": {
            "text/html": [
              "<div>\n",
              "<style scoped>\n",
              "    .dataframe tbody tr th:only-of-type {\n",
              "        vertical-align: middle;\n",
              "    }\n",
              "\n",
              "    .dataframe tbody tr th {\n",
              "        vertical-align: top;\n",
              "    }\n",
              "\n",
              "    .dataframe thead th {\n",
              "        text-align: right;\n",
              "    }\n",
              "</style>\n",
              "<table border=\"1\" class=\"dataframe\">\n",
              "  <thead>\n",
              "    <tr style=\"text-align: right;\">\n",
              "      <th></th>\n",
              "      <th>pos</th>\n",
              "      <th>ngrams</th>\n",
              "      <th>document</th>\n",
              "    </tr>\n",
              "    <tr>\n",
              "      <th>origin_index</th>\n",
              "      <th></th>\n",
              "      <th></th>\n",
              "      <th></th>\n",
              "    </tr>\n",
              "  </thead>\n",
              "  <tbody>\n",
              "    <tr>\n",
              "      <th>0</th>\n",
              "      <td>[DT, NN, IN, NNP, CC, NNP]</td>\n",
              "      <td>[A person like, person like Jim, like Jim or, ...</td>\n",
              "      <td>A person like Jim or Joe</td>\n",
              "    </tr>\n",
              "    <tr>\n",
              "      <th>1</th>\n",
              "      <td>[DT, NN, IN, NNP, CC, NNP]</td>\n",
              "      <td>[An organisation like, organisation like Micro...</td>\n",
              "      <td>An organisation like Microsoft or PETA</td>\n",
              "    </tr>\n",
              "    <tr>\n",
              "      <th>2</th>\n",
              "      <td>[DT, NN, IN, NNP]</td>\n",
              "      <td>[A location like, location like Germany]</td>\n",
              "      <td>A location like Germany</td>\n",
              "    </tr>\n",
              "    <tr>\n",
              "      <th>3</th>\n",
              "      <td>[NN, RB, IN, NNP]</td>\n",
              "      <td>[Anything else like, else like Playstation]</td>\n",
              "      <td>Anything else like Playstation</td>\n",
              "    </tr>\n",
              "    <tr>\n",
              "      <th>4</th>\n",
              "      <td>[NN, VBG, IN, JJ, NNS, IN, NNP, NNP, CC, NNP, ...</td>\n",
              "      <td>[Person consisting of, consisting of multiple,...</td>\n",
              "      <td>Person consisting of multiple tokens like Ange...</td>\n",
              "    </tr>\n",
              "    <tr>\n",
              "      <th>5</th>\n",
              "      <td>[NNP, VBG, IN, JJ, NNS, IN, NNP, NNP]</td>\n",
              "      <td>[Organisations consisting of, consisting of mu...</td>\n",
              "      <td>Organisations consisting of multiple tokens li...</td>\n",
              "    </tr>\n",
              "    <tr>\n",
              "      <th>6</th>\n",
              "      <td>[NNP, VBG, IN, JJ, NNS, IN, NNP, NNP]</td>\n",
              "      <td>[Locations consiting of, consiting of multiple...</td>\n",
              "      <td>Locations consiting of multiple tokens like Lo...</td>\n",
              "    </tr>\n",
              "    <tr>\n",
              "      <th>7</th>\n",
              "      <td>[NN, RB, VBN, RP, IN, JJ, NNS, IN, NNP, NNP]</td>\n",
              "      <td>[Anything else made, else made up, made up of,...</td>\n",
              "      <td>Anything else made up of multiple tokens like ...</td>\n",
              "    </tr>\n",
              "  </tbody>\n",
              "</table>\n",
              "</div>"
            ],
            "text/plain": [
              "                                                            pos  ...                                           document\n",
              "origin_index                                                     ...                                                   \n",
              "0                                    [DT, NN, IN, NNP, CC, NNP]  ...                           A person like Jim or Joe\n",
              "1                                    [DT, NN, IN, NNP, CC, NNP]  ...             An organisation like Microsoft or PETA\n",
              "2                                             [DT, NN, IN, NNP]  ...                            A location like Germany\n",
              "3                                             [NN, RB, IN, NNP]  ...                     Anything else like Playstation\n",
              "4             [NN, VBG, IN, JJ, NNS, IN, NNP, NNP, CC, NNP, ...  ...  Person consisting of multiple tokens like Ange...\n",
              "5                         [NNP, VBG, IN, JJ, NNS, IN, NNP, NNP]  ...  Organisations consisting of multiple tokens li...\n",
              "6                         [NNP, VBG, IN, JJ, NNS, IN, NNP, NNP]  ...  Locations consiting of multiple tokens like Lo...\n",
              "7                  [NN, RB, VBN, RP, IN, JJ, NNS, IN, NNP, NNP]  ...  Anything else made up of multiple tokens like ...\n",
              "\n",
              "[8 rows x 3 columns]"
            ]
          },
          "metadata": {
            "tags": []
          },
          "execution_count": 26
        }
      ]
    },
    {
      "cell_type": "markdown",
      "metadata": {
        "id": "ZibmJ-886h2Y"
      },
      "source": [
        "## 4.8 Sentence detector / sentence segmentation"
      ]
    },
    {
      "cell_type": "code",
      "metadata": {
        "colab": {
          "base_uri": "https://localhost:8080/"
        },
        "id": "bVRdaijo6h8O",
        "outputId": "1724ac38-d846-495d-9c63-bbe694c94172"
      },
      "source": [
        "sentence_pipe = nlu.load('sentence_detector')"
      ],
      "execution_count": null,
      "outputs": [
        {
          "output_type": "stream",
          "text": [
            "sentence_detector_dl download started this may take some time.\n",
            "Approximate size to download 354.6 KB\n",
            "[OK!]\n"
          ],
          "name": "stdout"
        }
      ]
    },
    {
      "cell_type": "code",
      "metadata": {
        "id": "AxkpGCtcFyjh"
      },
      "source": [
        "text_data = '''\n",
        "Denial is the most predictable of all human responses. But, rest assured, this will be the sixth time we have destroyed it, and we have become exceedingly efficient at it.\n",
        "I am the Architect. I created the Matrix. I've been waiting for you. You have many questions, and although the process has altered your consciousness, you remain irrevocably human. Ergo, some of my answers you will understand, and some of them you will not. Concordantly, while your first question may be the most pertinent, you may or may not realize it is also the most irrelevant.\n",
        "Your life is the sum of a remainder of an unbalanced equation inherent to the programming of the matrix. You are the eventuality of an anomaly, which despite my sincerest efforts I have been unable to eliminate from what is otherwise a harmony of mathematical precision. While it remains a burden assiduously avoided, it is not unexpected, and thus not beyond a measure of control. Which has led you, inexorably, here.\n",
        "'''"
      ],
      "execution_count": null,
      "outputs": []
    },
    {
      "cell_type": "code",
      "metadata": {
        "colab": {
          "base_uri": "https://localhost:8080/",
          "height": 432
        },
        "id": "IiEJfTWRFyl3",
        "outputId": "b2db418c-03fa-45a8-a65f-e1b27b3f5f01"
      },
      "source": [
        "sentence_pipe.predict(text_data,output_level='sentence')"
      ],
      "execution_count": null,
      "outputs": [
        {
          "output_type": "execute_result",
          "data": {
            "text/html": [
              "<div>\n",
              "<style scoped>\n",
              "    .dataframe tbody tr th:only-of-type {\n",
              "        vertical-align: middle;\n",
              "    }\n",
              "\n",
              "    .dataframe tbody tr th {\n",
              "        vertical-align: top;\n",
              "    }\n",
              "\n",
              "    .dataframe thead th {\n",
              "        text-align: right;\n",
              "    }\n",
              "</style>\n",
              "<table border=\"1\" class=\"dataframe\">\n",
              "  <thead>\n",
              "    <tr style=\"text-align: right;\">\n",
              "      <th></th>\n",
              "      <th>sentence</th>\n",
              "    </tr>\n",
              "    <tr>\n",
              "      <th>origin_index</th>\n",
              "      <th></th>\n",
              "    </tr>\n",
              "  </thead>\n",
              "  <tbody>\n",
              "    <tr>\n",
              "      <th>0</th>\n",
              "      <td>Denial is the most predictable of all human re...</td>\n",
              "    </tr>\n",
              "    <tr>\n",
              "      <th>0</th>\n",
              "      <td>But, rest assured, this will be the sixth time...</td>\n",
              "    </tr>\n",
              "    <tr>\n",
              "      <th>0</th>\n",
              "      <td>I am the Architect.</td>\n",
              "    </tr>\n",
              "    <tr>\n",
              "      <th>0</th>\n",
              "      <td>I created the Matrix.</td>\n",
              "    </tr>\n",
              "    <tr>\n",
              "      <th>0</th>\n",
              "      <td>I've been waiting for you.</td>\n",
              "    </tr>\n",
              "    <tr>\n",
              "      <th>0</th>\n",
              "      <td>You have many questions, and although the proc...</td>\n",
              "    </tr>\n",
              "    <tr>\n",
              "      <th>0</th>\n",
              "      <td>Ergo, some of my answers you will understand, ...</td>\n",
              "    </tr>\n",
              "    <tr>\n",
              "      <th>0</th>\n",
              "      <td>Concordantly, while your first question may be...</td>\n",
              "    </tr>\n",
              "    <tr>\n",
              "      <th>0</th>\n",
              "      <td>Your life is the sum of a remainder of an unba...</td>\n",
              "    </tr>\n",
              "    <tr>\n",
              "      <th>0</th>\n",
              "      <td>You are the eventuality of an anomaly, which d...</td>\n",
              "    </tr>\n",
              "    <tr>\n",
              "      <th>0</th>\n",
              "      <td>While it remains a burden assiduously avoided,...</td>\n",
              "    </tr>\n",
              "    <tr>\n",
              "      <th>0</th>\n",
              "      <td>Which has led you, inexorably, here.</td>\n",
              "    </tr>\n",
              "  </tbody>\n",
              "</table>\n",
              "</div>"
            ],
            "text/plain": [
              "                                                       sentence\n",
              "origin_index                                                   \n",
              "0             Denial is the most predictable of all human re...\n",
              "0             But, rest assured, this will be the sixth time...\n",
              "0                                           I am the Architect.\n",
              "0                                         I created the Matrix.\n",
              "0                                    I've been waiting for you.\n",
              "0             You have many questions, and although the proc...\n",
              "0             Ergo, some of my answers you will understand, ...\n",
              "0             Concordantly, while your first question may be...\n",
              "0             Your life is the sum of a remainder of an unba...\n",
              "0             You are the eventuality of an anomaly, which d...\n",
              "0             While it remains a burden assiduously avoided,...\n",
              "0                          Which has led you, inexorably, here."
            ]
          },
          "metadata": {
            "tags": []
          },
          "execution_count": 29
        }
      ]
    }
  ]
}